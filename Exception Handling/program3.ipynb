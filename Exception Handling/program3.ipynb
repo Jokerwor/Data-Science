{
 "cells": [
  {
   "cell_type": "code",
   "execution_count": 2,
   "id": "9369683d",
   "metadata": {},
   "outputs": [
    {
     "name": "stdout",
     "output_type": "stream",
     "text": [
      "division by zero\n"
     ]
    }
   ],
   "source": [
    "try:\n",
    "    a = 10/0\n",
    "except ZeroDivisionError as e:\n",
    "    print(e)"
   ]
  },
  {
   "cell_type": "code",
   "execution_count": null,
   "id": "0ff8ada2",
   "metadata": {},
   "outputs": [
    {
     "name": "stdout",
     "output_type": "stream",
     "text": [
      "invalid literal for int() with base 10: 'Hello'\n"
     ]
    }
   ],
   "source": [
    "# Exception in character\n",
    "\n",
    "try:\n",
    "    int(\"Hello\")\n",
    "except ValueError as e:\n",
    "    print(e)"
   ]
  },
  {
   "cell_type": "code",
   "execution_count": null,
   "id": "185e241b",
   "metadata": {},
   "outputs": [
    {
     "name": "stdout",
     "output_type": "stream",
     "text": [
      "No module named 'Rishi'\n"
     ]
    }
   ],
   "source": [
    "# Import error\n",
    "try:\n",
    "    import Rishi\n",
    "except ImportError as e:\n",
    "    print(e)"
   ]
  },
  {
   "cell_type": "code",
   "execution_count": 7,
   "id": "1e821bc8",
   "metadata": {},
   "outputs": [
    {
     "name": "stdout",
     "output_type": "stream",
     "text": [
      "'Key2'\n"
     ]
    }
   ],
   "source": [
    "# Key error\n",
    "try:\n",
    "    d = {\"key\": \"Rishi\", \"l\": {1, 2, 3, 4, 5}}\n",
    "    print(d[\"Key2\"])\n",
    "except KeyError as e:\n",
    "    print(e)"
   ]
  },
  {
   "cell_type": "code",
   "execution_count": 10,
   "id": "0ccc648f",
   "metadata": {},
   "outputs": [
    {
     "name": "stdout",
     "output_type": "stream",
     "text": [
      "'str' object has no attribute 'test'\n"
     ]
    }
   ],
   "source": [
    "try:\n",
    "    \"roshini\".test()\n",
    "except AttributeError as e:\n",
    "    print(e)"
   ]
  },
  {
   "cell_type": "code",
   "execution_count": 11,
   "id": "ae884671",
   "metadata": {},
   "outputs": [
    {
     "name": "stdout",
     "output_type": "stream",
     "text": [
      "'set' object is not callable\n"
     ]
    }
   ],
   "source": [
    "try:\n",
    "    l = {   1,2,3,4,5,6,7,8,9}\n",
    "    print(l(10))\n",
    "except TypeError as e:\n",
    "    print(e)"
   ]
  },
  {
   "cell_type": "code",
   "execution_count": 12,
   "id": "b0e4220c",
   "metadata": {},
   "outputs": [],
   "source": [
    "try:\n",
    "    with open(\"test.txt\",\"r\") as f:\n",
    "        test = f.read()\n",
    "except FileNotFoundError as e:\n",
    "    print(e)"
   ]
  },
  {
   "cell_type": "code",
   "execution_count": 14,
   "id": "cbd767c0",
   "metadata": {},
   "outputs": [
    {
     "data": {
      "text/plain": [
       "['__cause__',\n",
       " '__class__',\n",
       " '__context__',\n",
       " '__delattr__',\n",
       " '__dict__',\n",
       " '__dir__',\n",
       " '__doc__',\n",
       " '__eq__',\n",
       " '__format__',\n",
       " '__ge__',\n",
       " '__getattribute__',\n",
       " '__getstate__',\n",
       " '__gt__',\n",
       " '__hash__',\n",
       " '__init__',\n",
       " '__init_subclass__',\n",
       " '__le__',\n",
       " '__lt__',\n",
       " '__ne__',\n",
       " '__new__',\n",
       " '__reduce__',\n",
       " '__reduce_ex__',\n",
       " '__repr__',\n",
       " '__setattr__',\n",
       " '__setstate__',\n",
       " '__sizeof__',\n",
       " '__str__',\n",
       " '__subclasshook__',\n",
       " '__suppress_context__',\n",
       " '__traceback__',\n",
       " 'add_note',\n",
       " 'args',\n",
       " 'with_traceback']"
      ]
     },
     "execution_count": 14,
     "metadata": {},
     "output_type": "execute_result"
    }
   ],
   "source": [
    "dir(Exception)\n"
   ]
  },
  {
   "cell_type": "code",
   "execution_count": null,
   "id": "0ff93c55",
   "metadata": {},
   "outputs": [],
   "source": [
    "# If exception has executed one time then it will not execute again\n",
    "\n",
    "try:\n",
    "    with open(\"test.txt\",\"r\") as f:\n",
    "        test = f.read()\n",
    "except Exception as e:\n",
    "    print(e)\n",
    "except FileNotFoundError as e:\n",
    "    print(e)"
   ]
  },
  {
   "cell_type": "code",
   "execution_count": 17,
   "id": "7c75c8c4",
   "metadata": {},
   "outputs": [],
   "source": [
    "# Implementing logging in exception handling\n",
    "\n",
    "import logging\n",
    "logging.basicConfig(filename = \"error.log\" ,level = logging.ERROR)\n",
    "try:\n",
    "    a = 20/0\n",
    "except ZeroDivisionError as e:\n",
    "    logging.error(\"I am trying to handle this error\".format(e))"
   ]
  },
  {
   "cell_type": "code",
   "execution_count": 19,
   "id": "b4fe6d23",
   "metadata": {},
   "outputs": [],
   "source": [
    "# At the end of the file we have to close the file\n",
    "\n",
    "try:\n",
    "    with open(\"test5.txt\",\"r\") as f:\n",
    "        f.write(\"Hello\")\n",
    "except FileNotFoundError as e:\n",
    "        logging.error(\"I am trying to handle this error\".format(e))\n",
    "finally:\n",
    "    f.close()\n",
    "        "
   ]
  }
 ],
 "metadata": {
  "kernelspec": {
   "display_name": "Python 3",
   "language": "python",
   "name": "python3"
  },
  "language_info": {
   "codemirror_mode": {
    "name": "ipython",
    "version": 3
   },
   "file_extension": ".py",
   "mimetype": "text/x-python",
   "name": "python",
   "nbconvert_exporter": "python",
   "pygments_lexer": "ipython3",
   "version": "3.13.1"
  }
 },
 "nbformat": 4,
 "nbformat_minor": 5
}
