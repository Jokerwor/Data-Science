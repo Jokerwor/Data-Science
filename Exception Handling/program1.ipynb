{
 "cells": [
  {
   "cell_type": "code",
   "execution_count": 1,
   "id": "58644edb",
   "metadata": {},
   "outputs": [],
   "source": [
    "a = 10"
   ]
  },
  {
   "cell_type": "code",
   "execution_count": 2,
   "id": "4f3f7236",
   "metadata": {},
   "outputs": [
    {
     "name": "stdout",
     "output_type": "stream",
     "text": [
      "This is my file\n"
     ]
    }
   ],
   "source": [
    "f = open('test.txt', 'r')\n",
    "print(\"This is my file\")"
   ]
  },
  {
   "cell_type": "code",
   "execution_count": 3,
   "id": "ea06fd70",
   "metadata": {},
   "outputs": [],
   "source": [
    "# we use try and eception to handle the error\n",
    "# Like in above code if file is not present then it will give error but we can handle it using try and except\n",
    "\n",
    "try:\n",
    "    f= open('test.txt','r')\n",
    "except Exception as e:\n",
    "    print(\"This is my file\",e)"
   ]
  },
  {
   "cell_type": "code",
   "execution_count": 4,
   "id": "8c0f18ab",
   "metadata": {},
   "outputs": [],
   "source": [
    "# If try block is executed successfully then except block will not be executed\n",
    "\n",
    "try:\n",
    "    f= open('test.txt','w')\n",
    "    f.write(\"This is my file\")\n",
    "    f.close()\n",
    "except Exception as e:\n",
    "    print(\"This is my file\",e)"
   ]
  },
  {
   "cell_type": "code",
   "execution_count": 5,
   "id": "102d779f",
   "metadata": {},
   "outputs": [
    {
     "name": "stdout",
     "output_type": "stream",
     "text": [
      "There is no error in try block\n"
     ]
    }
   ],
   "source": [
    "# If try block is executed successfully only the else block will be executed\n",
    "\n",
    "try:\n",
    "    f= open('test.txt','w')\n",
    "    f.write(\"This is my file\")\n",
    "except Exception as e:\n",
    "    print(\"This is my file\",e)\n",
    "else:\n",
    "    f.close()\n",
    "    print(\"There is no error in try block\")"
   ]
  },
  {
   "cell_type": "code",
   "execution_count": 6,
   "id": "1b73b131",
   "metadata": {},
   "outputs": [
    {
     "name": "stdout",
     "output_type": "stream",
     "text": [
      "This is my file [Errno 2] No such file or directory: 'test1.txt'\n"
     ]
    }
   ],
   "source": [
    "try:\n",
    "    f= open('test1.txt','r')\n",
    "    f.write(\"This is my file\")\n",
    "except Exception as e:\n",
    "    print(\"This is my file\",e)\n",
    "else:\n",
    "    f.close()\n",
    "    print(\"There is no error in try block\")"
   ]
  }
 ],
 "metadata": {
  "kernelspec": {
   "display_name": "Python 3",
   "language": "python",
   "name": "python3"
  },
  "language_info": {
   "codemirror_mode": {
    "name": "ipython",
    "version": 3
   },
   "file_extension": ".py",
   "mimetype": "text/x-python",
   "name": "python",
   "nbconvert_exporter": "python",
   "pygments_lexer": "ipython3",
   "version": "3.11.9"
  }
 },
 "nbformat": 4,
 "nbformat_minor": 5
}
