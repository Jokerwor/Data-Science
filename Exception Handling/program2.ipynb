{
 "cells": [
  {
   "cell_type": "code",
   "execution_count": 16,
   "id": "37f9e2f3",
   "metadata": {},
   "outputs": [],
   "source": [
    "# We can also excute if else with exception handling"
   ]
  },
  {
   "cell_type": "code",
   "execution_count": 17,
   "id": "c7abf5d8",
   "metadata": {},
   "outputs": [],
   "source": [
    "class Validateage(Exception):\n",
    "    def __init__(self,msg):\n",
    "        self.msg=msg"
   ]
  },
  {
   "cell_type": "code",
   "execution_count": 18,
   "id": "432d1f1a",
   "metadata": {},
   "outputs": [],
   "source": [
    "def validateage(age):\n",
    "    if(age>0 or age<150):\n",
    "        raise Validateage(\"Valid age\")\n",
    "    else:\n",
    "        print(\"Invalid age\")"
   ]
  },
  {
   "cell_type": "code",
   "execution_count": 20,
   "id": "29550dca",
   "metadata": {},
   "outputs": [],
   "source": [
    "try:\n",
    "    age = int(input(\"Enter the age:\"))\n",
    "    Validateage(age)\n",
    "except Validateage as e:\n",
    "    print(e.msg)"
   ]
  }
 ],
 "metadata": {
  "kernelspec": {
   "display_name": "Python 3",
   "language": "python",
   "name": "python3"
  },
  "language_info": {
   "codemirror_mode": {
    "name": "ipython",
    "version": 3
   },
   "file_extension": ".py",
   "mimetype": "text/x-python",
   "name": "python",
   "nbconvert_exporter": "python",
   "pygments_lexer": "ipython3",
   "version": "3.13.1"
  }
 },
 "nbformat": 4,
 "nbformat_minor": 5
}
