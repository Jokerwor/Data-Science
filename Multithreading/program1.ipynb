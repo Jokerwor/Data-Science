{
 "cells": [
  {
   "cell_type": "code",
   "execution_count": null,
   "id": "6eeb9cd9",
   "metadata": {},
   "outputs": [],
   "source": [
    "# Multithreading: The threads run in parallel, and the code provides information about the process ID and thread names. The os module is used to access the process ID, and the ‘ threading' module is used to manage threads and their execution.\n",
    "\n",
    "import threading"
   ]
  },
  {
   "cell_type": "code",
   "execution_count": 7,
   "id": "9bd4bb6d",
   "metadata": {},
   "outputs": [],
   "source": [
    "def test(id):\n",
    "    print(\"Program start %d\" % id)"
   ]
  },
  {
   "cell_type": "code",
   "execution_count": 8,
   "id": "0ea66fb1",
   "metadata": {},
   "outputs": [
    {
     "name": "stdout",
     "output_type": "stream",
     "text": [
      "Program start 50\n"
     ]
    }
   ],
   "source": [
    "test(50)"
   ]
  },
  {
   "cell_type": "code",
   "execution_count": 9,
   "id": "197a2578",
   "metadata": {},
   "outputs": [],
   "source": [
    "thread = [threading.Thread(target = test,args = (i,)) for i in range(5)]"
   ]
  },
  {
   "cell_type": "code",
   "execution_count": 10,
   "id": "45d6ef70",
   "metadata": {},
   "outputs": [
    {
     "name": "stdout",
     "output_type": "stream",
     "text": [
      "Program start 0\n",
      "Program start 1\n",
      "Program start 2\n",
      "Program start 3\n",
      "Program start 4\n"
     ]
    }
   ],
   "source": [
    "for t in thread:\n",
    "    t.start()\n"
   ]
  },
  {
   "cell_type": "code",
   "execution_count": 11,
   "id": "48bee17c",
   "metadata": {},
   "outputs": [
    {
     "data": {
      "text/plain": [
       "[0, 1, 2, 3, 4]"
      ]
     },
     "execution_count": 11,
     "metadata": {},
     "output_type": "execute_result"
    }
   ],
   "source": [
    "list(range(5))"
   ]
  },
  {
   "cell_type": "code",
   "execution_count": 12,
   "id": "484de688",
   "metadata": {},
   "outputs": [
    {
     "data": {
      "text/plain": [
       "[<Thread(Thread-43 (test), stopped 9248)>,\n",
       " <Thread(Thread-44 (test), stopped 16376)>,\n",
       " <Thread(Thread-45 (test), stopped 25504)>,\n",
       " <Thread(Thread-46 (test), stopped 16656)>,\n",
       " <Thread(Thread-47 (test), stopped 25072)>]"
      ]
     },
     "execution_count": 12,
     "metadata": {},
     "output_type": "execute_result"
    }
   ],
   "source": [
    "thread"
   ]
  },
  {
   "cell_type": "code",
   "execution_count": 13,
   "id": "ec89e7a1",
   "metadata": {},
   "outputs": [
    {
     "data": {
      "text/plain": [
       "2688275520256"
      ]
     },
     "execution_count": 13,
     "metadata": {},
     "output_type": "execute_result"
    }
   ],
   "source": [
    "id(thread)"
   ]
  },
  {
   "cell_type": "code",
   "execution_count": 15,
   "id": "a57f4f8c",
   "metadata": {},
   "outputs": [],
   "source": [
    "import threading\n",
    "import urllib.request\n",
    "\n",
    "def file_download(url,filename):\n",
    "    urllib.request.urlretrieve(url,filename)"
   ]
  },
  {
   "cell_type": "code",
   "execution_count": 16,
   "id": "a80e72eb",
   "metadata": {},
   "outputs": [],
   "source": [
    "file_download('https://www.geeksforgeeks.org/applications-of-ai/','text.txt')"
   ]
  },
  {
   "cell_type": "code",
   "execution_count": 18,
   "id": "50b42e8b",
   "metadata": {},
   "outputs": [],
   "source": [
    "url_list = ['https://www.pega.com/ai-innovation?utm_source=bing&utm_medium=cpc&utm_campaign=B_India_NonBrand_AI_CE_Exact_(CPN-111067)_EN&utm_term=ai&gloc=149639&utm_content=pcrid%7C%7Cpkw%7Ckwd-81295357033245:loc-90%7Cpmt%7Ce%7Cpdv%7Cc%7C&&msclkid=a6bafd37a63d172c3afe9ac6dee80c76&utm_source=bing&utm_medium=cpc&utm_campaign=B_India_NonBrand_AI_CE_Exact_(CPN-111067)_EN&utm_term=ai&utm_content=AI&gclid=a6bafd37a63d172c3afe9ac6dee80c76&gclsrc=3p.ds&gad_source=7#:~:text=The%20AI%20Manifesto,business%2Ddefining%20impact.','https://in.images.search.yahoo.com/images/view;_ylt=AwrKARXYePFn3BAF4EK9HAx.;_ylu=c2VjA3NyBHNsawNpbWcEb2lkAzg3NjMzMzM0YTJkODNjOWY3MTZiOTRiZmZjZGI0MjAzBGdwb3MDMgRpdANiaW5n?back=https%3A%2F%2Fin.images.search.yahoo.com%2Fsearch%2Fimages%3Fp%3Dai%26type%3DE210IN885G0%26fr%3Dmcafee%26fr2%3Dpiv-web%26tab%3Dorganic%26ri%3D2&w=2200&h=1400&imgurl=axenehp.com%2Fwp-content%2Fuploads%2F2019%2F02%2F20190225_header.jpg&rurl=https%3A%2F%2Faxenehp.com%2Fai-artificial-intelligence-actuarial-intelligence%2F&size=840KB&p=ai&oid=87633334a2d83c9f716b94bffcdb4203&fr2=piv-web&fr=mcafee&tt=AI%2C+Artificial+Intelligence+or+Actuarial+Intelligence%3F+%E2%80%93+Axene+Health+...&b=0&ni=21&no=2&ts=&tab=organic&sigr=SF__jQVG0i3D&sigb=1MR7y_bAc7hH&sigi=azF9uEMdKpI3&sigt=iWrNx0BhrjWx&.crumb=uNMkRSS3YO4&fr=mcafee&fr2=piv-web&type=E210IN885G0','https://www.pega.com/ai-innovation?utm_source=bing&utm_medium=cpc&utm_campaign=B_India_NonBrand_AI_CE_Exact_(CPN-111067)_EN&utm_term=ai&gloc=149639&utm_content=pcrid%7C%7Cpkw%7Ckwd-81295357033245:loc-90%7Cpmt%7Ce%7Cpdv%7Cc%7C&&msclkid=a6bafd37a63d172c3afe9ac6dee80c76&utm_source=bing&utm_medium=cpc&utm_campaign=B_India_NonBrand_AI_CE_Exact_(CPN-111067)_EN&utm_term=ai&utm_content=AI&gclid=a6bafd37a63d172c3afe9ac6dee80c76&gclsrc=3p.ds&gad_source=7#:~:text=It%20seems%20like,defining%20outcomes%20tomorrow']"
   ]
  },
  {
   "cell_type": "code",
   "execution_count": 19,
   "id": "d896f181",
   "metadata": {},
   "outputs": [
    {
     "data": {
      "text/plain": [
       "['https://www.pega.com/ai-innovation?utm_source=bing&utm_medium=cpc&utm_campaign=B_India_NonBrand_AI_CE_Exact_(CPN-111067)_EN&utm_term=ai&gloc=149639&utm_content=pcrid%7C%7Cpkw%7Ckwd-81295357033245:loc-90%7Cpmt%7Ce%7Cpdv%7Cc%7C&&msclkid=a6bafd37a63d172c3afe9ac6dee80c76&utm_source=bing&utm_medium=cpc&utm_campaign=B_India_NonBrand_AI_CE_Exact_(CPN-111067)_EN&utm_term=ai&utm_content=AI&gclid=a6bafd37a63d172c3afe9ac6dee80c76&gclsrc=3p.ds&gad_source=7#:~:text=The%20AI%20Manifesto,business%2Ddefining%20impact.',\n",
       " 'https://in.images.search.yahoo.com/images/view;_ylt=AwrKARXYePFn3BAF4EK9HAx.;_ylu=c2VjA3NyBHNsawNpbWcEb2lkAzg3NjMzMzM0YTJkODNjOWY3MTZiOTRiZmZjZGI0MjAzBGdwb3MDMgRpdANiaW5n?back=https%3A%2F%2Fin.images.search.yahoo.com%2Fsearch%2Fimages%3Fp%3Dai%26type%3DE210IN885G0%26fr%3Dmcafee%26fr2%3Dpiv-web%26tab%3Dorganic%26ri%3D2&w=2200&h=1400&imgurl=axenehp.com%2Fwp-content%2Fuploads%2F2019%2F02%2F20190225_header.jpg&rurl=https%3A%2F%2Faxenehp.com%2Fai-artificial-intelligence-actuarial-intelligence%2F&size=840KB&p=ai&oid=87633334a2d83c9f716b94bffcdb4203&fr2=piv-web&fr=mcafee&tt=AI%2C+Artificial+Intelligence+or+Actuarial+Intelligence%3F+%E2%80%93+Axene+Health+...&b=0&ni=21&no=2&ts=&tab=organic&sigr=SF__jQVG0i3D&sigb=1MR7y_bAc7hH&sigi=azF9uEMdKpI3&sigt=iWrNx0BhrjWx&.crumb=uNMkRSS3YO4&fr=mcafee&fr2=piv-web&type=E210IN885G0',\n",
       " 'https://www.pega.com/ai-innovation?utm_source=bing&utm_medium=cpc&utm_campaign=B_India_NonBrand_AI_CE_Exact_(CPN-111067)_EN&utm_term=ai&gloc=149639&utm_content=pcrid%7C%7Cpkw%7Ckwd-81295357033245:loc-90%7Cpmt%7Ce%7Cpdv%7Cc%7C&&msclkid=a6bafd37a63d172c3afe9ac6dee80c76&utm_source=bing&utm_medium=cpc&utm_campaign=B_India_NonBrand_AI_CE_Exact_(CPN-111067)_EN&utm_term=ai&utm_content=AI&gclid=a6bafd37a63d172c3afe9ac6dee80c76&gclsrc=3p.ds&gad_source=7#:~:text=It%20seems%20like,defining%20outcomes%20tomorrow']"
      ]
     },
     "execution_count": 19,
     "metadata": {},
     "output_type": "execute_result"
    }
   ],
   "source": [
    "url_list"
   ]
  },
  {
   "cell_type": "code",
   "execution_count": 20,
   "id": "a60f7a78",
   "metadata": {},
   "outputs": [],
   "source": [
    "file_name_list = ['data1.txt','data2.txt','data3.txt']"
   ]
  },
  {
   "cell_type": "code",
   "execution_count": 30,
   "id": "1988252a",
   "metadata": {},
   "outputs": [],
   "source": [
    "thread = [threading.Thread(target = file_download,args = (url_list[i],file_name_list[i]))for i in range(len(url_list))]"
   ]
  },
  {
   "cell_type": "code",
   "execution_count": 29,
   "id": "daac993e",
   "metadata": {},
   "outputs": [
    {
     "data": {
      "text/plain": [
       "[<Thread(Thread-166 (file_download), stopped 13752)>,\n",
       " <Thread(Thread-167 (file_download), stopped 27084)>,\n",
       " <Thread(Thread-168 (file_download), stopped 28628)>]"
      ]
     },
     "execution_count": 29,
     "metadata": {},
     "output_type": "execute_result"
    }
   ],
   "source": [
    "thread"
   ]
  },
  {
   "cell_type": "code",
   "execution_count": 24,
   "id": "1a74b3de",
   "metadata": {},
   "outputs": [
    {
     "name": "stderr",
     "output_type": "stream",
     "text": [
      "Exception in thread Exception in thread Thread-168 (file_download):\n",
      "Thread-166 (file_download):\n",
      "Traceback (most recent call last):\n",
      "Traceback (most recent call last):\n",
      "  File \"c:\\Users\\Asus\\AppData\\Local\\Programs\\Python\\Python313\\Lib\\threading.py\", line 1041, in _bootstrap_inner\n",
      "    self.run()\n",
      "    ~~~~~~~~^^\n",
      "  File \"c:\\Users\\Asus\\AppData\\Local\\Programs\\Python\\Python313\\Lib\\site-packages\\ipykernel\\ipkernel.py\", line 766, in run_closure\n",
      "    _threading_Thread_run(self)\n",
      "    ~~~~~~~~~~~~~~~~~~~~~^^^^^^\n",
      "  File \"c:\\Users\\Asus\\AppData\\Local\\Programs\\Python\\Python313\\Lib\\threading.py\", line 992, in run\n",
      "    self._target(*self._args, **self._kwargs)\n",
      "    ~~~~~~~~~~~~^^^^^^^^^^^^^^^^^^^^^^^^^^^^^\n",
      "  File \"C:\\Users\\Asus\\AppData\\Local\\Temp\\ipykernel_20532\\7879309.py\", line 5, in file_download\n",
      "    urllib.request.urlretrieve(url,filename)\n",
      "    ~~~~~~~~~~~~~~~~~~~~~~~~~~^^^^^^^^^^^^^^\n",
      "  File \"c:\\Users\\Asus\\AppData\\Local\\Programs\\Python\\Python313\\Lib\\urllib\\request.py\", line 214, in urlretrieve\n",
      "    with contextlib.closing(urlopen(url, data)) as fp:\n",
      "                            ~~~~~~~^^^^^^^^^^^\n",
      "  File \"c:\\Users\\Asus\\AppData\\Local\\Programs\\Python\\Python313\\Lib\\urllib\\request.py\", line 189, in urlopen\n",
      "    return opener.open(url, data, timeout)\n",
      "           ~~~~~~~~~~~^^^^^^^^^^^^^^^^^^^^\n",
      "  File \"c:\\Users\\Asus\\AppData\\Local\\Programs\\Python\\Python313\\Lib\\urllib\\request.py\", line 495, in open\n",
      "    response = meth(req, response)\n",
      "  File \"c:\\Users\\Asus\\AppData\\Local\\Programs\\Python\\Python313\\Lib\\urllib\\request.py\", line 604, in http_response\n",
      "    response = self.parent.error(\n",
      "        'http', request, response, code, msg, hdrs)\n",
      "  File \"c:\\Users\\Asus\\AppData\\Local\\Programs\\Python\\Python313\\Lib\\urllib\\request.py\", line 533, in error\n",
      "    return self._call_chain(*args)\n",
      "           ~~~~~~~~~~~~~~~~^^^^^^^\n",
      "  File \"c:\\Users\\Asus\\AppData\\Local\\Programs\\Python\\Python313\\Lib\\urllib\\request.py\", line 466, in _call_chain\n",
      "    result = func(*args)\n",
      "  File \"c:\\Users\\Asus\\AppData\\Local\\Programs\\Python\\Python313\\Lib\\urllib\\request.py\", line 613, in http_error_default\n",
      "    raise HTTPError(req.full_url, code, msg, hdrs, fp)\n",
      "urllib.error.HTTPError: HTTP Error 403: Forbidden\n",
      "  File \"c:\\Users\\Asus\\AppData\\Local\\Programs\\Python\\Python313\\Lib\\threading.py\", line 1041, in _bootstrap_inner\n",
      "    self.run()\n",
      "    ~~~~~~~~^^\n",
      "  File \"c:\\Users\\Asus\\AppData\\Local\\Programs\\Python\\Python313\\Lib\\site-packages\\ipykernel\\ipkernel.py\", line 766, in run_closure\n",
      "    _threading_Thread_run(self)\n",
      "    ~~~~~~~~~~~~~~~~~~~~~^^^^^^\n",
      "  File \"c:\\Users\\Asus\\AppData\\Local\\Programs\\Python\\Python313\\Lib\\threading.py\", line 992, in run\n",
      "    self._target(*self._args, **self._kwargs)\n",
      "    ~~~~~~~~~~~~^^^^^^^^^^^^^^^^^^^^^^^^^^^^^\n",
      "  File \"C:\\Users\\Asus\\AppData\\Local\\Temp\\ipykernel_20532\\7879309.py\", line 5, in file_download\n",
      "    urllib.request.urlretrieve(url,filename)\n",
      "    ~~~~~~~~~~~~~~~~~~~~~~~~~~^^^^^^^^^^^^^^\n",
      "  File \"c:\\Users\\Asus\\AppData\\Local\\Programs\\Python\\Python313\\Lib\\urllib\\request.py\", line 214, in urlretrieve\n",
      "    with contextlib.closing(urlopen(url, data)) as fp:\n",
      "                            ~~~~~~~^^^^^^^^^^^\n",
      "  File \"c:\\Users\\Asus\\AppData\\Local\\Programs\\Python\\Python313\\Lib\\urllib\\request.py\", line 189, in urlopen\n",
      "    return opener.open(url, data, timeout)\n",
      "           ~~~~~~~~~~~^^^^^^^^^^^^^^^^^^^^\n",
      "  File \"c:\\Users\\Asus\\AppData\\Local\\Programs\\Python\\Python313\\Lib\\urllib\\request.py\", line 495, in open\n",
      "    response = meth(req, response)\n",
      "  File \"c:\\Users\\Asus\\AppData\\Local\\Programs\\Python\\Python313\\Lib\\urllib\\request.py\", line 604, in http_response\n",
      "    response = self.parent.error(\n",
      "        'http', request, response, code, msg, hdrs)\n",
      "  File \"c:\\Users\\Asus\\AppData\\Local\\Programs\\Python\\Python313\\Lib\\urllib\\request.py\", line 533, in error\n",
      "    return self._call_chain(*args)\n",
      "           ~~~~~~~~~~~~~~~~^^^^^^^\n",
      "  File \"c:\\Users\\Asus\\AppData\\Local\\Programs\\Python\\Python313\\Lib\\urllib\\request.py\", line 466, in _call_chain\n",
      "    result = func(*args)\n",
      "  File \"c:\\Users\\Asus\\AppData\\Local\\Programs\\Python\\Python313\\Lib\\urllib\\request.py\", line 613, in http_error_default\n",
      "    raise HTTPError(req.full_url, code, msg, hdrs, fp)\n",
      "urllib.error.HTTPError: HTTP Error 403: Forbidden\n"
     ]
    }
   ],
   "source": [
    "for t in thread:\n",
    "    t.start()"
   ]
  },
  {
   "cell_type": "code",
   "execution_count": 25,
   "id": "4f797067",
   "metadata": {},
   "outputs": [
    {
     "data": {
      "text/plain": [
       "[<Thread(Thread-166 (file_download), stopped 13752)>,\n",
       " <Thread(Thread-167 (file_download), stopped 27084)>,\n",
       " <Thread(Thread-168 (file_download), stopped 28628)>]"
      ]
     },
     "execution_count": 25,
     "metadata": {},
     "output_type": "execute_result"
    }
   ],
   "source": [
    "thread"
   ]
  },
  {
   "cell_type": "code",
   "execution_count": 49,
   "id": "3a9588dd",
   "metadata": {},
   "outputs": [
    {
     "name": "stdout",
     "output_type": "stream",
     "text": [
      "test1 1 printing 0 Sun Apr  6 01:23:23 2025\n",
      "test1 1 printing 1 Sun Apr  6 01:23:24 2025\n",
      "test1 1 printing 2 Sun Apr  6 01:23:25 2025\n",
      "test1 1 printing 3 Sun Apr  6 01:23:26 2025\n",
      "test1 1 printing 4 Sun Apr  6 01:23:27 2025\n"
     ]
    }
   ],
   "source": [
    "import time\n",
    "\n",
    "def test1(id):\n",
    "    for i in range(5):\n",
    "        print(\"test1 %d printing %d %s\" % (id, i, time.ctime()))\n",
    "        time.sleep(1)\n",
    "\n",
    "test1(1)"
   ]
  },
  {
   "cell_type": "code",
   "execution_count": 50,
   "id": "674e870f",
   "metadata": {},
   "outputs": [],
   "source": [
    "thread1 = [threading.Thread(target = test1,args = (i,)) for i in range(3)]"
   ]
  },
  {
   "cell_type": "code",
   "execution_count": null,
   "id": "f03cbf1a",
   "metadata": {},
   "outputs": [
    {
     "name": "stdout",
     "output_type": "stream",
     "text": [
      "test1 0 printing 0 Sun Apr  6 01:23:28 2025test1 1 printing 0 Sun Apr  6 01:23:28 2025\n",
      "\n",
      "test1 2 printing 0 Sun Apr  6 01:23:28 2025\n"
     ]
    },
    {
     "name": "stdout",
     "output_type": "stream",
     "text": [
      "test1 1 printing 1 Sun Apr  6 01:23:29 2025\n",
      "test1 2 printing 1 Sun Apr  6 01:23:29 2025\n",
      "test1 0 printing 1 Sun Apr  6 01:23:29 2025\n",
      "test1 1 printing 2 Sun Apr  6 01:23:30 2025test1 0 printing 2 Sun Apr  6 01:23:30 2025\n",
      "test1 2 printing 2 Sun Apr  6 01:23:30 2025\n",
      "\n",
      "test1 2 printing 3 Sun Apr  6 01:23:31 2025\n",
      "test1 1 printing 3 Sun Apr  6 01:23:31 2025\n",
      "test1 0 printing 3 Sun Apr  6 01:23:31 2025\n",
      "test1 2 printing 4 Sun Apr  6 01:23:32 2025test1 1 printing 4 Sun Apr  6 01:23:32 2025\n",
      "\n",
      "test1 0 printing 4 Sun Apr  6 01:23:32 2025\n"
     ]
    }
   ],
   "source": [
    "for t in thread1:\n",
    "    t.start()"
   ]
  },
  {
   "cell_type": "code",
   "execution_count": null,
   "id": "a2af7e97",
   "metadata": {},
   "outputs": [],
   "source": [
    "shared_var = 0\n",
    "lock_var = threading.lock()"
   ]
  },
  {
   "cell_type": "code",
   "execution_count": null,
   "id": "003ec5d4",
   "metadata": {},
   "outputs": [
    {
     "name": "stderr",
     "output_type": "stream",
     "text": [
      "Exception in thread Thread-462 (test3):\n",
      "Exception in thread Thread-463 (test3):\n",
      "Exception in thread Thread-464 (test3):\n",
      "Traceback (most recent call last):\n",
      "  File \"c:\\Users\\Asus\\AppData\\Local\\Programs\\Python\\Python313\\Lib\\threading.py\", line 1041, in _bootstrap_inner\n",
      "    self.run()\n",
      "    ~~~~~~~~^^\n",
      "  File \"c:\\Users\\Asus\\AppData\\Local\\Programs\\Python\\Python313\\Lib\\site-packages\\ipykernel\\ipkernel.py\", line 766, in run_closure\n",
      "    _threading_Thread_run(self)\n",
      "    ~~~~~~~~~~~~~~~~~~~~~^^^^^^\n",
      "  File \"c:\\Users\\Asus\\AppData\\Local\\Programs\\Python\\Python313\\Lib\\threading.py\", line 992, in run\n",
      "    self._target(*self._args, **self._kwargs)\n",
      "    ~~~~~~~~~~~~^^^^^^^^^^^^^^^^^^^^^^^^^^^^^\n",
      "  File \"C:\\Users\\Asus\\AppData\\Local\\Temp\\ipykernel_20532\\3999064522.py\", line 3, in test3\n",
      "    with lock_var:\n",
      "         ^^^^^^^^\n",
      "NameError: name 'lock_var' is not defined\n"
     ]
    },
    {
     "name": "stderr",
     "output_type": "stream",
     "text": [
      "Traceback (most recent call last):\n",
      "  File \"c:\\Users\\Asus\\AppData\\Local\\Programs\\Python\\Python313\\Lib\\threading.py\", line 1041, in _bootstrap_inner\n",
      "    self.run()\n",
      "    ~~~~~~~~^^\n",
      "  File \"c:\\Users\\Asus\\AppData\\Local\\Programs\\Python\\Python313\\Lib\\site-packages\\ipykernel\\ipkernel.py\", line 766, in run_closure\n",
      "    _threading_Thread_run(self)\n",
      "    ~~~~~~~~~~~~~~~~~~~~~^^^^^^\n",
      "  File \"c:\\Users\\Asus\\AppData\\Local\\Programs\\Python\\Python313\\Lib\\threading.py\", line 992, in run\n",
      "    self._target(*self._args, **self._kwargs)\n",
      "    ~~~~~~~~~~~~^^^^^^^^^^^^^^^^^^^^^^^^^^^^^\n",
      "  File \"C:\\Users\\Asus\\AppData\\Local\\Temp\\ipykernel_20532\\3999064522.py\", line 3, in test3\n",
      "    with lock_var:\n",
      "         ^^^^^^^^\n",
      "NameError: name 'lock_var' is not defined\n",
      "Traceback (most recent call last):\n",
      "  File \"c:\\Users\\Asus\\AppData\\Local\\Programs\\Python\\Python313\\Lib\\threading.py\", line 1041, in _bootstrap_inner\n",
      "    self.run()\n",
      "    ~~~~~~~~^^\n",
      "  File \"c:\\Users\\Asus\\AppData\\Local\\Programs\\Python\\Python313\\Lib\\site-packages\\ipykernel\\ipkernel.py\", line 766, in run_closure\n",
      "    _threading_Thread_run(self)\n",
      "    ~~~~~~~~~~~~~~~~~~~~~^^^^^^\n",
      "  File \"c:\\Users\\Asus\\AppData\\Local\\Programs\\Python\\Python313\\Lib\\threading.py\", line 992, in run\n",
      "    self._target(*self._args, **self._kwargs)\n",
      "    ~~~~~~~~~~~~^^^^^^^^^^^^^^^^^^^^^^^^^^^^^\n",
      "  File \"C:\\Users\\Asus\\AppData\\Local\\Temp\\ipykernel_20532\\3999064522.py\", line 3, in test3\n",
      "    with lock_var:\n",
      "         ^^^^^^^^\n",
      "NameError: name 'lock_var' is not defined\n"
     ]
    }
   ],
   "source": [
    "\n",
    "def test3(id):\n",
    "    global shared_var\n",
    "    with lock_var:\n",
    "        shared_var = shared_var+1\n",
    "        print(\"test3 is %d has increased the shared variable by %d\" %(id,shared_var))\n",
    "        time.sleep(1)\n",
    "ther = [threading.Thread(target = test3,args = (i,)) for i in range(3)]\n",
    "for t in ther:\n",
    "    t.start()"
   ]
  },
  {
   "cell_type": "code",
   "execution_count": 55,
   "id": "055dc522",
   "metadata": {},
   "outputs": [
    {
     "data": {
      "text/plain": [
       "[<Thread(Thread-462 (test3), stopped 30496)>,\n",
       " <Thread(Thread-463 (test3), stopped 30504)>,\n",
       " <Thread(Thread-464 (test3), stopped 28276)>]"
      ]
     },
     "execution_count": 55,
     "metadata": {},
     "output_type": "execute_result"
    }
   ],
   "source": [
    "ther"
   ]
  },
  {
   "cell_type": "code",
   "execution_count": null,
   "id": "7fc3b108",
   "metadata": {},
   "outputs": [],
   "source": []
  }
 ],
 "metadata": {
  "kernelspec": {
   "display_name": "Python 3",
   "language": "python",
   "name": "python3"
  },
  "language_info": {
   "codemirror_mode": {
    "name": "ipython",
    "version": 3
   },
   "file_extension": ".py",
   "mimetype": "text/x-python",
   "name": "python",
   "nbconvert_exporter": "python",
   "pygments_lexer": "ipython3",
   "version": "3.13.1"
  }
 },
 "nbformat": 4,
 "nbformat_minor": 5
}
