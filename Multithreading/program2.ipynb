{
 "cells": [
  {
   "cell_type": "code",
   "execution_count": null,
   "id": "ff543370",
   "metadata": {},
   "outputs": [],
   "source": [
    "# Multiprocessing: Multiple processor process code at sametime"
   ]
  },
  {
   "cell_type": "code",
   "execution_count": null,
   "id": "da2af8e4",
   "metadata": {},
   "outputs": [
    {
     "name": "stdout",
     "output_type": "stream",
     "text": [
      "This is my main code\n"
     ]
    }
   ],
   "source": [
    "import multiprocessing\n",
    "\n",
    "def test():\n",
    "    print(\"This is my multiprocessing code\")\n",
    "    \n",
    "if __name__ == '__main__':\n",
    "    m = multiprocessing.Process(target=test)\n",
    "    print(\"This is my main code\")\n",
    "    m.start()\n",
    "    m.join()    "
   ]
  },
  {
   "cell_type": "code",
   "execution_count": null,
   "id": "4aaa7275",
   "metadata": {},
   "outputs": [
    {
     "name": "stdout",
     "output_type": "stream",
     "text": [
      "This is my multiprocessing code\n"
     ]
    }
   ],
   "source": [
    "test()"
   ]
  },
  {
   "cell_type": "code",
   "execution_count": null,
   "id": "70d4e19f",
   "metadata": {},
   "outputs": [],
   "source": [
    "import multiprocessing\n",
    "\n",
    "def square(n):\n",
    "    return n**2\n",
    "\n",
    "if __name__ == '__main__':\n",
    "    with multiprocessing.Pool(processes=4) as pool:\n",
    "        out = pool.map(square, [1, 2, 3, 4, 5, 6, 7, 8, 9, 10])\n",
    "        print(out)"
   ]
  },
  {
   "cell_type": "code",
   "execution_count": null,
   "id": "331624cd",
   "metadata": {},
   "outputs": [],
   "source": [
    "def producer(q):\n",
    "    for i in range(10):\n",
    "        q.put(i)\n",
    "        \n",
    "def consumer(q):\n",
    "    while True:\n",
    "        item = q.get()\n",
    "        if item is None:\n",
    "            break\n",
    "        print(item)\n",
    "        \n",
    "if __name__ == '__main__':\n",
    "    queue = multiprocessing.Queue()\n",
    "    m1 = multiprocessing.Process(target = producer,args = (queue,))\n",
    "    m2 = multiprocessing.Process(target = consumer,args = (queue,))\n",
    "    m1.start()\n",
    "    m2.start()\n",
    "    queue.put(\"Rishi\")\n",
    "    m1.join()\n",
    "    m2.join()"
   ]
  },
  {
   "cell_type": "code",
   "execution_count": null,
   "id": "988336db",
   "metadata": {},
   "outputs": [],
   "source": [
    "import multiprocessing\n",
    "def sender(conn,msg):\n",
    "    for i in msg:\n",
    "        conn.setup(i)\n",
    "    conn.close()\n",
    "    \n",
    "def receive(conn):\n",
    "        while True:\n",
    "            try:\n",
    "                msg = conn.recv()\n",
    "            except Exception as e:\n",
    "                print(e)\n",
    "                break\n",
    "            print(msg)\n",
    "            \n",
    "if __name__ == '__main__':\n",
    "    msg = [\"My name is rishi\",\"This is my msg to student\",\"I am doing multiprocessing\"]\n",
    "    parent_conn,child_conn = multiprocessing.Pipe()\n",
    "    m1 = multiprocessing.Process(target = sender,args = (child_conn,msg))\n",
    "    m2 = multiprocessing.Process(target = receive,args = (parent_conn,))\n",
    "    m1.start()\n",
    "    m1.join()\n",
    "    child_conn.close()\n",
    "    m2.start()\n",
    "    m2.join()\n",
    "    parent_conn.close()"
   ]
  }
 ],
 "metadata": {
  "kernelspec": {
   "display_name": "Python 3",
   "language": "python",
   "name": "python3"
  },
  "language_info": {
   "codemirror_mode": {
    "name": "ipython",
    "version": 3
   },
   "file_extension": ".py",
   "mimetype": "text/x-python",
   "name": "python",
   "nbconvert_exporter": "python",
   "pygments_lexer": "ipython3",
   "version": "3.13.1"
  }
 },
 "nbformat": 4,
 "nbformat_minor": 5
}
