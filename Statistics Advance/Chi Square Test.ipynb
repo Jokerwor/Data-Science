{
 "cells": [
  {
   "cell_type": "code",
   "execution_count": 4,
   "id": "aa12abd4",
   "metadata": {},
   "outputs": [],
   "source": [
    "import scipy.stats as stats\n",
    "import numpy as np"
   ]
  },
  {
   "cell_type": "code",
   "execution_count": 5,
   "id": "0611f44d",
   "metadata": {},
   "outputs": [],
   "source": [
    "#Number of hours students studing on daily basis\n",
    "#Monday,Tuesday,Wednesday,Thursday,Friday,Saturday,Sunday"
   ]
  },
  {
   "cell_type": "code",
   "execution_count": 14,
   "id": "26ce87c9",
   "metadata": {},
   "outputs": [],
   "source": [
    "expected_hours = [7,9,8,8,7,9,8,9,7]\n",
    "observed_hours = [9,6,8,8,8,9,7,8,9]"
   ]
  },
  {
   "cell_type": "code",
   "execution_count": 15,
   "id": "14397503",
   "metadata": {},
   "outputs": [
    {
     "data": {
      "text/plain": [
       "(72, 72)"
      ]
     },
     "execution_count": 15,
     "metadata": {},
     "output_type": "execute_result"
    }
   ],
   "source": [
    "sum(expected_hours),sum(observed_hours)"
   ]
  },
  {
   "cell_type": "code",
   "execution_count": null,
   "id": "8ab5e0f7",
   "metadata": {},
   "outputs": [],
   "source": [
    "#Chi Square Goodness of Fit Test\n",
    "chisquare_test_statistics,p_value = stats.chisquare(expected_hours,observed_hours)"
   ]
  },
  {
   "cell_type": "code",
   "execution_count": 18,
   "id": "b481bcb0",
   "metadata": {},
   "outputs": [
    {
     "data": {
      "text/plain": [
       "(np.float64(2.7817460317460316), np.float64(0.9472986921647497))"
      ]
     },
     "execution_count": 18,
     "metadata": {},
     "output_type": "execute_result"
    }
   ],
   "source": [
    "chisquare_test_statistics,p_value"
   ]
  },
  {
   "cell_type": "code",
   "execution_count": 20,
   "id": "22019540",
   "metadata": {},
   "outputs": [
    {
     "name": "stdout",
     "output_type": "stream",
     "text": [
      "8\n"
     ]
    }
   ],
   "source": [
    "significance_level = 0.05\n",
    "dof = len(expected_hours) - 1\n",
    "print(dof)"
   ]
  },
  {
   "cell_type": "code",
   "execution_count": 21,
   "id": "442b3568",
   "metadata": {},
   "outputs": [],
   "source": [
    "critical_value = stats.chi2.ppf(1-significance_level, dof)"
   ]
  },
  {
   "cell_type": "code",
   "execution_count": 22,
   "id": "8d7928cb",
   "metadata": {},
   "outputs": [
    {
     "data": {
      "text/plain": [
       "np.float64(15.507313055865453)"
      ]
     },
     "execution_count": 22,
     "metadata": {},
     "output_type": "execute_result"
    }
   ],
   "source": [
    "critical_value"
   ]
  },
  {
   "cell_type": "code",
   "execution_count": 23,
   "id": "ff010943",
   "metadata": {},
   "outputs": [
    {
     "name": "stdout",
     "output_type": "stream",
     "text": [
      "Fail to reject the null hypothesis: The observed distribution does not differ significantly from the expected distribution.\n"
     ]
    }
   ],
   "source": [
    "if chisquare_test_statistics > critical_value:\n",
    "    print(\"Reject the null hypothesis: The observed distribution differs significantly from the expected distribution.\")\n",
    "else:\n",
    "    print(\"Fail to reject the null hypothesis: The observed distribution does not differ significantly from the expected distribution.\")    "
   ]
  }
 ],
 "metadata": {
  "kernelspec": {
   "display_name": "Python 3",
   "language": "python",
   "name": "python3"
  },
  "language_info": {
   "codemirror_mode": {
    "name": "ipython",
    "version": 3
   },
   "file_extension": ".py",
   "mimetype": "text/x-python",
   "name": "python",
   "nbconvert_exporter": "python",
   "pygments_lexer": "ipython3",
   "version": "3.11.9"
  }
 },
 "nbformat": 4,
 "nbformat_minor": 5
}
