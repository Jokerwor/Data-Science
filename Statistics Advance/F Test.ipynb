{
 "cells": [
  {
   "cell_type": "code",
   "execution_count": 1,
   "id": "ef41e8df",
   "metadata": {},
   "outputs": [],
   "source": [
    "import numpy as np\n",
    "import scipy.stats as stat"
   ]
  },
  {
   "cell_type": "code",
   "execution_count": null,
   "id": "c0363bb4",
   "metadata": {},
   "outputs": [],
   "source": [
    "#Comparing two workers performance who makes more bulbs"
   ]
  },
  {
   "cell_type": "code",
   "execution_count": 3,
   "id": "89e33c8f",
   "metadata": {},
   "outputs": [],
   "source": [
    "worker1 = [23,45,67,34,29,56,47,14]\n",
    "worker2 = [12,45,67,34,29,56,47,18]"
   ]
  },
  {
   "cell_type": "code",
   "execution_count": 4,
   "id": "0b18b531",
   "metadata": {},
   "outputs": [],
   "source": [
    "f = np.var(worker1)/np.var(worker2)"
   ]
  },
  {
   "cell_type": "code",
   "execution_count": 5,
   "id": "ed827914",
   "metadata": {},
   "outputs": [
    {
     "data": {
      "text/plain": [
       "np.float64(0.8831609894566099)"
      ]
     },
     "execution_count": 5,
     "metadata": {},
     "output_type": "execute_result"
    }
   ],
   "source": [
    "f"
   ]
  },
  {
   "cell_type": "code",
   "execution_count": 7,
   "id": "0ab29fa5",
   "metadata": {},
   "outputs": [],
   "source": [
    "df1 = len(worker1) - 1\n",
    "df2 = len(worker2) - 1\n",
    "significance = 0.05"
   ]
  },
  {
   "cell_type": "code",
   "execution_count": 8,
   "id": "7c7c432b",
   "metadata": {},
   "outputs": [],
   "source": [
    "critical_stats = stat.f.ppf(1 - significance, df1, df2)"
   ]
  },
  {
   "cell_type": "code",
   "execution_count": 9,
   "id": "42be953e",
   "metadata": {},
   "outputs": [
    {
     "data": {
      "text/plain": [
       "np.float64(3.7870435399280677)"
      ]
     },
     "execution_count": 9,
     "metadata": {},
     "output_type": "execute_result"
    }
   ],
   "source": [
    "critical_stats"
   ]
  },
  {
   "cell_type": "code",
   "execution_count": 10,
   "id": "fdf897a5",
   "metadata": {},
   "outputs": [
    {
     "name": "stdout",
     "output_type": "stream",
     "text": [
      "Accept Null Hypothesis\n"
     ]
    }
   ],
   "source": [
    "if f > critical_stats:\n",
    "    print(\"Reject Null Hypothesis\")\n",
    "else:\n",
    "    print(\"Accept Null Hypothesis\")"
   ]
  }
 ],
 "metadata": {
  "kernelspec": {
   "display_name": "Python 3",
   "language": "python",
   "name": "python3"
  },
  "language_info": {
   "codemirror_mode": {
    "name": "ipython",
    "version": 3
   },
   "file_extension": ".py",
   "mimetype": "text/x-python",
   "name": "python",
   "nbconvert_exporter": "python",
   "pygments_lexer": "ipython3",
   "version": "3.11.9"
  }
 },
 "nbformat": 4,
 "nbformat_minor": 5
}
