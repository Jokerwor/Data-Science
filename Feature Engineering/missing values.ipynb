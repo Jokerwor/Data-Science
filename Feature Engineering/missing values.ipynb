{
 "cells": [
  {
   "cell_type": "code",
   "execution_count": 1,
   "id": "54cfae09",
   "metadata": {},
   "outputs": [],
   "source": [
    "import seaborn as sns"
   ]
  },
  {
   "cell_type": "code",
   "execution_count": 52,
   "id": "cf188490",
   "metadata": {},
   "outputs": [],
   "source": [
    "df = sns.load_dataset('titanic')"
   ]
  },
  {
   "cell_type": "code",
   "execution_count": 53,
   "id": "27120212",
   "metadata": {},
   "outputs": [
    {
     "data": {
      "application/vnd.microsoft.datawrangler.viewer.v0+json": {
       "columns": [
        {
         "name": "index",
         "rawType": "int64",
         "type": "integer"
        },
        {
         "name": "survived",
         "rawType": "int64",
         "type": "integer"
        },
        {
         "name": "pclass",
         "rawType": "int64",
         "type": "integer"
        },
        {
         "name": "sex",
         "rawType": "object",
         "type": "string"
        },
        {
         "name": "age",
         "rawType": "float64",
         "type": "float"
        },
        {
         "name": "sibsp",
         "rawType": "int64",
         "type": "integer"
        },
        {
         "name": "parch",
         "rawType": "int64",
         "type": "integer"
        },
        {
         "name": "fare",
         "rawType": "float64",
         "type": "float"
        },
        {
         "name": "embarked",
         "rawType": "object",
         "type": "string"
        },
        {
         "name": "class",
         "rawType": "category",
         "type": "unknown"
        },
        {
         "name": "who",
         "rawType": "object",
         "type": "string"
        },
        {
         "name": "adult_male",
         "rawType": "bool",
         "type": "boolean"
        },
        {
         "name": "deck",
         "rawType": "category",
         "type": "unknown"
        },
        {
         "name": "embark_town",
         "rawType": "object",
         "type": "string"
        },
        {
         "name": "alive",
         "rawType": "object",
         "type": "string"
        },
        {
         "name": "alone",
         "rawType": "bool",
         "type": "boolean"
        }
       ],
       "ref": "a2584018-3655-4d19-b8a6-a85650841b0e",
       "rows": [
        [
         "0",
         "0",
         "3",
         "male",
         "22.0",
         "1",
         "0",
         "7.25",
         "S",
         "Third",
         "man",
         "True",
         null,
         "Southampton",
         "no",
         "False"
        ],
        [
         "1",
         "1",
         "1",
         "female",
         "38.0",
         "1",
         "0",
         "71.2833",
         "C",
         "First",
         "woman",
         "False",
         "C",
         "Cherbourg",
         "yes",
         "False"
        ],
        [
         "2",
         "1",
         "3",
         "female",
         "26.0",
         "0",
         "0",
         "7.925",
         "S",
         "Third",
         "woman",
         "False",
         null,
         "Southampton",
         "yes",
         "True"
        ],
        [
         "3",
         "1",
         "1",
         "female",
         "35.0",
         "1",
         "0",
         "53.1",
         "S",
         "First",
         "woman",
         "False",
         "C",
         "Southampton",
         "yes",
         "False"
        ],
        [
         "4",
         "0",
         "3",
         "male",
         "35.0",
         "0",
         "0",
         "8.05",
         "S",
         "Third",
         "man",
         "True",
         null,
         "Southampton",
         "no",
         "True"
        ]
       ],
       "shape": {
        "columns": 15,
        "rows": 5
       }
      },
      "text/html": [
       "<div>\n",
       "<style scoped>\n",
       "    .dataframe tbody tr th:only-of-type {\n",
       "        vertical-align: middle;\n",
       "    }\n",
       "\n",
       "    .dataframe tbody tr th {\n",
       "        vertical-align: top;\n",
       "    }\n",
       "\n",
       "    .dataframe thead th {\n",
       "        text-align: right;\n",
       "    }\n",
       "</style>\n",
       "<table border=\"1\" class=\"dataframe\">\n",
       "  <thead>\n",
       "    <tr style=\"text-align: right;\">\n",
       "      <th></th>\n",
       "      <th>survived</th>\n",
       "      <th>pclass</th>\n",
       "      <th>sex</th>\n",
       "      <th>age</th>\n",
       "      <th>sibsp</th>\n",
       "      <th>parch</th>\n",
       "      <th>fare</th>\n",
       "      <th>embarked</th>\n",
       "      <th>class</th>\n",
       "      <th>who</th>\n",
       "      <th>adult_male</th>\n",
       "      <th>deck</th>\n",
       "      <th>embark_town</th>\n",
       "      <th>alive</th>\n",
       "      <th>alone</th>\n",
       "    </tr>\n",
       "  </thead>\n",
       "  <tbody>\n",
       "    <tr>\n",
       "      <th>0</th>\n",
       "      <td>0</td>\n",
       "      <td>3</td>\n",
       "      <td>male</td>\n",
       "      <td>22.0</td>\n",
       "      <td>1</td>\n",
       "      <td>0</td>\n",
       "      <td>7.2500</td>\n",
       "      <td>S</td>\n",
       "      <td>Third</td>\n",
       "      <td>man</td>\n",
       "      <td>True</td>\n",
       "      <td>NaN</td>\n",
       "      <td>Southampton</td>\n",
       "      <td>no</td>\n",
       "      <td>False</td>\n",
       "    </tr>\n",
       "    <tr>\n",
       "      <th>1</th>\n",
       "      <td>1</td>\n",
       "      <td>1</td>\n",
       "      <td>female</td>\n",
       "      <td>38.0</td>\n",
       "      <td>1</td>\n",
       "      <td>0</td>\n",
       "      <td>71.2833</td>\n",
       "      <td>C</td>\n",
       "      <td>First</td>\n",
       "      <td>woman</td>\n",
       "      <td>False</td>\n",
       "      <td>C</td>\n",
       "      <td>Cherbourg</td>\n",
       "      <td>yes</td>\n",
       "      <td>False</td>\n",
       "    </tr>\n",
       "    <tr>\n",
       "      <th>2</th>\n",
       "      <td>1</td>\n",
       "      <td>3</td>\n",
       "      <td>female</td>\n",
       "      <td>26.0</td>\n",
       "      <td>0</td>\n",
       "      <td>0</td>\n",
       "      <td>7.9250</td>\n",
       "      <td>S</td>\n",
       "      <td>Third</td>\n",
       "      <td>woman</td>\n",
       "      <td>False</td>\n",
       "      <td>NaN</td>\n",
       "      <td>Southampton</td>\n",
       "      <td>yes</td>\n",
       "      <td>True</td>\n",
       "    </tr>\n",
       "    <tr>\n",
       "      <th>3</th>\n",
       "      <td>1</td>\n",
       "      <td>1</td>\n",
       "      <td>female</td>\n",
       "      <td>35.0</td>\n",
       "      <td>1</td>\n",
       "      <td>0</td>\n",
       "      <td>53.1000</td>\n",
       "      <td>S</td>\n",
       "      <td>First</td>\n",
       "      <td>woman</td>\n",
       "      <td>False</td>\n",
       "      <td>C</td>\n",
       "      <td>Southampton</td>\n",
       "      <td>yes</td>\n",
       "      <td>False</td>\n",
       "    </tr>\n",
       "    <tr>\n",
       "      <th>4</th>\n",
       "      <td>0</td>\n",
       "      <td>3</td>\n",
       "      <td>male</td>\n",
       "      <td>35.0</td>\n",
       "      <td>0</td>\n",
       "      <td>0</td>\n",
       "      <td>8.0500</td>\n",
       "      <td>S</td>\n",
       "      <td>Third</td>\n",
       "      <td>man</td>\n",
       "      <td>True</td>\n",
       "      <td>NaN</td>\n",
       "      <td>Southampton</td>\n",
       "      <td>no</td>\n",
       "      <td>True</td>\n",
       "    </tr>\n",
       "  </tbody>\n",
       "</table>\n",
       "</div>"
      ],
      "text/plain": [
       "   survived  pclass     sex   age  sibsp  parch     fare embarked  class  \\\n",
       "0         0       3    male  22.0      1      0   7.2500        S  Third   \n",
       "1         1       1  female  38.0      1      0  71.2833        C  First   \n",
       "2         1       3  female  26.0      0      0   7.9250        S  Third   \n",
       "3         1       1  female  35.0      1      0  53.1000        S  First   \n",
       "4         0       3    male  35.0      0      0   8.0500        S  Third   \n",
       "\n",
       "     who  adult_male deck  embark_town alive  alone  \n",
       "0    man        True  NaN  Southampton    no  False  \n",
       "1  woman       False    C    Cherbourg   yes  False  \n",
       "2  woman       False  NaN  Southampton   yes   True  \n",
       "3  woman       False    C  Southampton   yes  False  \n",
       "4    man        True  NaN  Southampton    no   True  "
      ]
     },
     "execution_count": 53,
     "metadata": {},
     "output_type": "execute_result"
    }
   ],
   "source": [
    "df.head()"
   ]
  },
  {
   "cell_type": "code",
   "execution_count": 54,
   "id": "98d22305",
   "metadata": {},
   "outputs": [
    {
     "data": {
      "application/vnd.microsoft.datawrangler.viewer.v0+json": {
       "columns": [
        {
         "name": "index",
         "rawType": "object",
         "type": "string"
        },
        {
         "name": "0",
         "rawType": "int64",
         "type": "integer"
        }
       ],
       "ref": "864ecfdc-3eeb-412c-9627-93ac15980d85",
       "rows": [
        [
         "survived",
         "0"
        ],
        [
         "pclass",
         "0"
        ],
        [
         "sex",
         "0"
        ],
        [
         "age",
         "177"
        ],
        [
         "sibsp",
         "0"
        ],
        [
         "parch",
         "0"
        ],
        [
         "fare",
         "0"
        ],
        [
         "embarked",
         "2"
        ],
        [
         "class",
         "0"
        ],
        [
         "who",
         "0"
        ],
        [
         "adult_male",
         "0"
        ],
        [
         "deck",
         "688"
        ],
        [
         "embark_town",
         "2"
        ],
        [
         "alive",
         "0"
        ],
        [
         "alone",
         "0"
        ]
       ],
       "shape": {
        "columns": 1,
        "rows": 15
       }
      },
      "text/plain": [
       "survived         0\n",
       "pclass           0\n",
       "sex              0\n",
       "age            177\n",
       "sibsp            0\n",
       "parch            0\n",
       "fare             0\n",
       "embarked         2\n",
       "class            0\n",
       "who              0\n",
       "adult_male       0\n",
       "deck           688\n",
       "embark_town      2\n",
       "alive            0\n",
       "alone            0\n",
       "dtype: int64"
      ]
     },
     "execution_count": 54,
     "metadata": {},
     "output_type": "execute_result"
    }
   ],
   "source": [
    "df.isnull().sum()"
   ]
  },
  {
   "cell_type": "code",
   "execution_count": 55,
   "id": "c2612821",
   "metadata": {},
   "outputs": [
    {
     "data": {
      "text/plain": [
       "<Axes: >"
      ]
     },
     "execution_count": 55,
     "metadata": {},
     "output_type": "execute_result"
    },
    {
     "data": {
      "image/png": "[encoded data removed]",
      "text/plain": [
       "<Figure size 640x480 with 2 Axes>"
      ]
     },
     "metadata": {},
     "output_type": "display_data"
    }
   ],
   "source": [
    "sns.heatmap(df.isnull())"
   ]
  },
  {
   "cell_type": "code",
   "execution_count": 56,
   "id": "5d6def35",
   "metadata": {},
   "outputs": [
    {
     "data": {
      "text/plain": [
       "(182, 15)"
      ]
     },
     "execution_count": 56,
     "metadata": {},
     "output_type": "execute_result"
    }
   ],
   "source": [
    "#row deletion\n",
    "df.dropna().shape"
   ]
  },
  {
   "cell_type": "code",
   "execution_count": 57,
   "id": "a996ae33",
   "metadata": {},
   "outputs": [
    {
     "data": {
      "text/plain": [
       "(891, 15)"
      ]
     },
     "execution_count": 57,
     "metadata": {},
     "output_type": "execute_result"
    }
   ],
   "source": [
    "df.shape"
   ]
  },
  {
   "cell_type": "code",
   "execution_count": 58,
   "id": "1aee3d4f",
   "metadata": {},
   "outputs": [
    {
     "data": {
      "application/vnd.microsoft.datawrangler.viewer.v0+json": {
       "columns": [
        {
         "name": "index",
         "rawType": "int64",
         "type": "integer"
        },
        {
         "name": "survived",
         "rawType": "int64",
         "type": "integer"
        },
        {
         "name": "pclass",
         "rawType": "int64",
         "type": "integer"
        },
        {
         "name": "sex",
         "rawType": "object",
         "type": "string"
        },
        {
         "name": "sibsp",
         "rawType": "int64",
         "type": "integer"
        },
        {
         "name": "parch",
         "rawType": "int64",
         "type": "integer"
        },
        {
         "name": "fare",
         "rawType": "float64",
         "type": "float"
        },
        {
         "name": "class",
         "rawType": "category",
         "type": "unknown"
        },
        {
         "name": "who",
         "rawType": "object",
         "type": "string"
        },
        {
         "name": "adult_male",
         "rawType": "bool",
         "type": "boolean"
        },
        {
         "name": "alive",
         "rawType": "object",
         "type": "string"
        },
        {
         "name": "alone",
         "rawType": "bool",
         "type": "boolean"
        }
       ],
       "ref": "39680d95-e02d-4171-b305-d73dd5e7f095",
       "rows": [
        [
         "0",
         "0",
         "3",
         "male",
         "1",
         "0",
         "7.25",
         "Third",
         "man",
         "True",
         "no",
         "False"
        ],
        [
         "1",
         "1",
         "1",
         "female",
         "1",
         "0",
         "71.2833",
         "First",
         "woman",
         "False",
         "yes",
         "False"
        ],
        [
         "2",
         "1",
         "3",
         "female",
         "0",
         "0",
         "7.925",
         "Third",
         "woman",
         "False",
         "yes",
         "True"
        ],
        [
         "3",
         "1",
         "1",
         "female",
         "1",
         "0",
         "53.1",
         "First",
         "woman",
         "False",
         "yes",
         "False"
        ],
        [
         "4",
         "0",
         "3",
         "male",
         "0",
         "0",
         "8.05",
         "Third",
         "man",
         "True",
         "no",
         "True"
        ],
        [
         "5",
         "0",
         "3",
         "male",
         "0",
         "0",
         "8.4583",
         "Third",
         "man",
         "True",
         "no",
         "True"
        ],
        [
         "6",
         "0",
         "1",
         "male",
         "0",
         "0",
         "51.8625",
         "First",
         "man",
         "True",
         "no",
         "True"
        ],
        [
         "7",
         "0",
         "3",
         "male",
         "3",
         "1",
         "21.075",
         "Third",
         "child",
         "False",
         "no",
         "False"
        ],
        [
         "8",
         "1",
         "3",
         "female",
         "0",
         "2",
         "11.1333",
         "Third",
         "woman",
         "False",
         "yes",
         "False"
        ],
        [
         "9",
         "1",
         "2",
         "female",
         "1",
         "0",
         "30.0708",
         "Second",
         "child",
         "False",
         "yes",
         "False"
        ],
        [
         "10",
         "1",
         "3",
         "female",
         "1",
         "1",
         "16.7",
         "Third",
         "child",
         "False",
         "yes",
         "False"
        ],
        [
         "11",
         "1",
         "1",
         "female",
         "0",
         "0",
         "26.55",
         "First",
         "woman",
         "False",
         "yes",
         "True"
        ],
        [
         "12",
         "0",
         "3",
         "male",
         "0",
         "0",
         "8.05",
         "Third",
         "man",
         "True",
         "no",
         "True"
        ],
        [
         "13",
         "0",
         "3",
         "male",
         "1",
         "5",
         "31.275",
         "Third",
         "man",
         "True",
         "no",
         "False"
        ],
        [
         "14",
         "0",
         "3",
         "female",
         "0",
         "0",
         "7.8542",
         "Third",
         "child",
         "False",
         "no",
         "True"
        ],
        [
         "15",
         "1",
         "2",
         "female",
         "0",
         "0",
         "16.0",
         "Second",
         "woman",
         "False",
         "yes",
         "True"
        ],
        [
         "16",
         "0",
         "3",
         "male",
         "4",
         "1",
         "29.125",
         "Third",
         "child",
         "False",
         "no",
         "False"
        ],
        [
         "17",
         "1",
         "2",
         "male",
         "0",
         "0",
         "13.0",
         "Second",
         "man",
         "True",
         "yes",
         "True"
        ],
        [
         "18",
         "0",
         "3",
         "female",
         "1",
         "0",
         "18.0",
         "Third",
         "woman",
         "False",
         "no",
         "False"
        ],
        [
         "19",
         "1",
         "3",
         "female",
         "0",
         "0",
         "7.225",
         "Third",
         "woman",
         "False",
         "yes",
         "True"
        ],
        [
         "20",
         "0",
         "2",
         "male",
         "0",
         "0",
         "26.0",
         "Second",
         "man",
         "True",
         "no",
         "True"
        ],
        [
         "21",
         "1",
         "2",
         "male",
         "0",
         "0",
         "13.0",
         "Second",
         "man",
         "True",
         "yes",
         "True"
        ],
        [
         "22",
         "1",
         "3",
         "female",
         "0",
         "0",
         "8.0292",
         "Third",
         "child",
         "False",
         "yes",
         "True"
        ],
        [
         "23",
         "1",
         "1",
         "male",
         "0",
         "0",
         "35.5",
         "First",
         "man",
         "True",
         "yes",
         "True"
        ],
        [
         "24",
         "0",
         "3",
         "female",
         "3",
         "1",
         "21.075",
         "Third",
         "child",
         "False",
         "no",
         "False"
        ],
        [
         "25",
         "1",
         "3",
         "female",
         "1",
         "5",
         "31.3875",
         "Third",
         "woman",
         "False",
         "yes",
         "False"
        ],
        [
         "26",
         "0",
         "3",
         "male",
         "0",
         "0",
         "7.225",
         "Third",
         "man",
         "True",
         "no",
         "True"
        ],
        [
         "27",
         "0",
         "1",
         "male",
         "3",
         "2",
         "263.0",
         "First",
         "man",
         "True",
         "no",
         "False"
        ],
        [
         "28",
         "1",
         "3",
         "female",
         "0",
         "0",
         "7.8792",
         "Third",
         "woman",
         "False",
         "yes",
         "True"
        ],
        [
         "29",
         "0",
         "3",
         "male",
         "0",
         "0",
         "7.8958",
         "Third",
         "man",
         "True",
         "no",
         "True"
        ],
        [
         "30",
         "0",
         "1",
         "male",
         "0",
         "0",
         "27.7208",
         "First",
         "man",
         "True",
         "no",
         "True"
        ],
        [
         "31",
         "1",
         "1",
         "female",
         "1",
         "0",
         "146.5208",
         "First",
         "woman",
         "False",
         "yes",
         "False"
        ],
        [
         "32",
         "1",
         "3",
         "female",
         "0",
         "0",
         "7.75",
         "Third",
         "woman",
         "False",
         "yes",
         "True"
        ],
        [
         "33",
         "0",
         "2",
         "male",
         "0",
         "0",
         "10.5",
         "Second",
         "man",
         "True",
         "no",
         "True"
        ],
        [
         "34",
         "0",
         "1",
         "male",
         "1",
         "0",
         "82.1708",
         "First",
         "man",
         "True",
         "no",
         "False"
        ],
        [
         "35",
         "0",
         "1",
         "male",
         "1",
         "0",
         "52.0",
         "First",
         "man",
         "True",
         "no",
         "False"
        ],
        [
         "36",
         "1",
         "3",
         "male",
         "0",
         "0",
         "7.2292",
         "Third",
         "man",
         "True",
         "yes",
         "True"
        ],
        [
         "37",
         "0",
         "3",
         "male",
         "0",
         "0",
         "8.05",
         "Third",
         "man",
         "True",
         "no",
         "True"
        ],
        [
         "38",
         "0",
         "3",
         "female",
         "2",
         "0",
         "18.0",
         "Third",
         "woman",
         "False",
         "no",
         "False"
        ],
        [
         "39",
         "1",
         "3",
         "female",
         "1",
         "0",
         "11.2417",
         "Third",
         "child",
         "False",
         "yes",
         "False"
        ],
        [
         "40",
         "0",
         "3",
         "female",
         "1",
         "0",
         "9.475",
         "Third",
         "woman",
         "False",
         "no",
         "False"
        ],
        [
         "41",
         "0",
         "2",
         "female",
         "1",
         "0",
         "21.0",
         "Second",
         "woman",
         "False",
         "no",
         "False"
        ],
        [
         "42",
         "0",
         "3",
         "male",
         "0",
         "0",
         "7.8958",
         "Third",
         "man",
         "True",
         "no",
         "True"
        ],
        [
         "43",
         "1",
         "2",
         "female",
         "1",
         "2",
         "41.5792",
         "Second",
         "child",
         "False",
         "yes",
         "False"
        ],
        [
         "44",
         "1",
         "3",
         "female",
         "0",
         "0",
         "7.8792",
         "Third",
         "woman",
         "False",
         "yes",
         "True"
        ],
        [
         "45",
         "0",
         "3",
         "male",
         "0",
         "0",
         "8.05",
         "Third",
         "man",
         "True",
         "no",
         "True"
        ],
        [
         "46",
         "0",
         "3",
         "male",
         "1",
         "0",
         "15.5",
         "Third",
         "man",
         "True",
         "no",
         "False"
        ],
        [
         "47",
         "1",
         "3",
         "female",
         "0",
         "0",
         "7.75",
         "Third",
         "woman",
         "False",
         "yes",
         "True"
        ],
        [
         "48",
         "0",
         "3",
         "male",
         "2",
         "0",
         "21.6792",
         "Third",
         "man",
         "True",
         "no",
         "False"
        ],
        [
         "49",
         "0",
         "3",
         "female",
         "1",
         "0",
         "17.8",
         "Third",
         "woman",
         "False",
         "no",
         "False"
        ]
       ],
       "shape": {
        "columns": 11,
        "rows": 891
       }
      },
      "text/html": [
       "<div>\n",
       "<style scoped>\n",
       "    .dataframe tbody tr th:only-of-type {\n",
       "        vertical-align: middle;\n",
       "    }\n",
       "\n",
       "    .dataframe tbody tr th {\n",
       "        vertical-align: top;\n",
       "    }\n",
       "\n",
       "    .dataframe thead th {\n",
       "        text-align: right;\n",
       "    }\n",
       "</style>\n",
       "<table border=\"1\" class=\"dataframe\">\n",
       "  <thead>\n",
       "    <tr style=\"text-align: right;\">\n",
       "      <th></th>\n",
       "      <th>survived</th>\n",
       "      <th>pclass</th>\n",
       "      <th>sex</th>\n",
       "      <th>sibsp</th>\n",
       "      <th>parch</th>\n",
       "      <th>fare</th>\n",
       "      <th>class</th>\n",
       "      <th>who</th>\n",
       "      <th>adult_male</th>\n",
       "      <th>alive</th>\n",
       "      <th>alone</th>\n",
       "    </tr>\n",
       "  </thead>\n",
       "  <tbody>\n",
       "    <tr>\n",
       "      <th>0</th>\n",
       "      <td>0</td>\n",
       "      <td>3</td>\n",
       "      <td>male</td>\n",
       "      <td>1</td>\n",
       "      <td>0</td>\n",
       "      <td>7.2500</td>\n",
       "      <td>Third</td>\n",
       "      <td>man</td>\n",
       "      <td>True</td>\n",
       "      <td>no</td>\n",
       "      <td>False</td>\n",
       "    </tr>\n",
       "    <tr>\n",
       "      <th>1</th>\n",
       "      <td>1</td>\n",
       "      <td>1</td>\n",
       "      <td>female</td>\n",
       "      <td>1</td>\n",
       "      <td>0</td>\n",
       "      <td>71.2833</td>\n",
       "      <td>First</td>\n",
       "      <td>woman</td>\n",
       "      <td>False</td>\n",
       "      <td>yes</td>\n",
       "      <td>False</td>\n",
       "    </tr>\n",
       "    <tr>\n",
       "      <th>2</th>\n",
       "      <td>1</td>\n",
       "      <td>3</td>\n",
       "      <td>female</td>\n",
       "      <td>0</td>\n",
       "      <td>0</td>\n",
       "      <td>7.9250</td>\n",
       "      <td>Third</td>\n",
       "      <td>woman</td>\n",
       "      <td>False</td>\n",
       "      <td>yes</td>\n",
       "      <td>True</td>\n",
       "    </tr>\n",
       "    <tr>\n",
       "      <th>3</th>\n",
       "      <td>1</td>\n",
       "      <td>1</td>\n",
       "      <td>female</td>\n",
       "      <td>1</td>\n",
       "      <td>0</td>\n",
       "      <td>53.1000</td>\n",
       "      <td>First</td>\n",
       "      <td>woman</td>\n",
       "      <td>False</td>\n",
       "      <td>yes</td>\n",
       "      <td>False</td>\n",
       "    </tr>\n",
       "    <tr>\n",
       "      <th>4</th>\n",
       "      <td>0</td>\n",
       "      <td>3</td>\n",
       "      <td>male</td>\n",
       "      <td>0</td>\n",
       "      <td>0</td>\n",
       "      <td>8.0500</td>\n",
       "      <td>Third</td>\n",
       "      <td>man</td>\n",
       "      <td>True</td>\n",
       "      <td>no</td>\n",
       "      <td>True</td>\n",
       "    </tr>\n",
       "    <tr>\n",
       "      <th>...</th>\n",
       "      <td>...</td>\n",
       "      <td>...</td>\n",
       "      <td>...</td>\n",
       "      <td>...</td>\n",
       "      <td>...</td>\n",
       "      <td>...</td>\n",
       "      <td>...</td>\n",
       "      <td>...</td>\n",
       "      <td>...</td>\n",
       "      <td>...</td>\n",
       "      <td>...</td>\n",
       "    </tr>\n",
       "    <tr>\n",
       "      <th>886</th>\n",
       "      <td>0</td>\n",
       "      <td>2</td>\n",
       "      <td>male</td>\n",
       "      <td>0</td>\n",
       "      <td>0</td>\n",
       "      <td>13.0000</td>\n",
       "      <td>Second</td>\n",
       "      <td>man</td>\n",
       "      <td>True</td>\n",
       "      <td>no</td>\n",
       "      <td>True</td>\n",
       "    </tr>\n",
       "    <tr>\n",
       "      <th>887</th>\n",
       "      <td>1</td>\n",
       "      <td>1</td>\n",
       "      <td>female</td>\n",
       "      <td>0</td>\n",
       "      <td>0</td>\n",
       "      <td>30.0000</td>\n",
       "      <td>First</td>\n",
       "      <td>woman</td>\n",
       "      <td>False</td>\n",
       "      <td>yes</td>\n",
       "      <td>True</td>\n",
       "    </tr>\n",
       "    <tr>\n",
       "      <th>888</th>\n",
       "      <td>0</td>\n",
       "      <td>3</td>\n",
       "      <td>female</td>\n",
       "      <td>1</td>\n",
       "      <td>2</td>\n",
       "      <td>23.4500</td>\n",
       "      <td>Third</td>\n",
       "      <td>woman</td>\n",
       "      <td>False</td>\n",
       "      <td>no</td>\n",
       "      <td>False</td>\n",
       "    </tr>\n",
       "    <tr>\n",
       "      <th>889</th>\n",
       "      <td>1</td>\n",
       "      <td>1</td>\n",
       "      <td>male</td>\n",
       "      <td>0</td>\n",
       "      <td>0</td>\n",
       "      <td>30.0000</td>\n",
       "      <td>First</td>\n",
       "      <td>man</td>\n",
       "      <td>True</td>\n",
       "      <td>yes</td>\n",
       "      <td>True</td>\n",
       "    </tr>\n",
       "    <tr>\n",
       "      <th>890</th>\n",
       "      <td>0</td>\n",
       "      <td>3</td>\n",
       "      <td>male</td>\n",
       "      <td>0</td>\n",
       "      <td>0</td>\n",
       "      <td>7.7500</td>\n",
       "      <td>Third</td>\n",
       "      <td>man</td>\n",
       "      <td>True</td>\n",
       "      <td>no</td>\n",
       "      <td>True</td>\n",
       "    </tr>\n",
       "  </tbody>\n",
       "</table>\n",
       "<p>891 rows × 11 columns</p>\n",
       "</div>"
      ],
      "text/plain": [
       "     survived  pclass     sex  sibsp  parch     fare   class    who  \\\n",
       "0           0       3    male      1      0   7.2500   Third    man   \n",
       "1           1       1  female      1      0  71.2833   First  woman   \n",
       "2           1       3  female      0      0   7.9250   Third  woman   \n",
       "3           1       1  female      1      0  53.1000   First  woman   \n",
       "4           0       3    male      0      0   8.0500   Third    man   \n",
       "..        ...     ...     ...    ...    ...      ...     ...    ...   \n",
       "886         0       2    male      0      0  13.0000  Second    man   \n",
       "887         1       1  female      0      0  30.0000   First  woman   \n",
       "888         0       3  female      1      2  23.4500   Third  woman   \n",
       "889         1       1    male      0      0  30.0000   First    man   \n",
       "890         0       3    male      0      0   7.7500   Third    man   \n",
       "\n",
       "     adult_male alive  alone  \n",
       "0          True    no  False  \n",
       "1         False   yes  False  \n",
       "2         False   yes   True  \n",
       "3         False   yes  False  \n",
       "4          True    no   True  \n",
       "..          ...   ...    ...  \n",
       "886        True    no   True  \n",
       "887       False   yes   True  \n",
       "888       False    no  False  \n",
       "889        True   yes   True  \n",
       "890        True    no   True  \n",
       "\n",
       "[891 rows x 11 columns]"
      ]
     },
     "execution_count": 58,
     "metadata": {},
     "output_type": "execute_result"
    }
   ],
   "source": [
    "#column deletion\n",
    "df.dropna(axis=1)"
   ]
  },
  {
   "cell_type": "code",
   "execution_count": 59,
   "id": "7d67afaf",
   "metadata": {},
   "outputs": [],
   "source": [
    "#Inputation techniques\n",
    "#1-mean Value Inputation"
   ]
  },
  {
   "cell_type": "code",
   "execution_count": 60,
   "id": "f6eaf5d9",
   "metadata": {},
   "outputs": [
    {
     "data": {
      "text/plain": [
       "<seaborn.axisgrid.FacetGrid at 0x21026d01550>"
      ]
     },
     "execution_count": 60,
     "metadata": {},
     "output_type": "execute_result"
    },
    {
     "data": {
      "image/png": "[encoded data removed]",
      "text/plain": [
       "<Figure size 500x500 with 1 Axes>"
      ]
     },
     "metadata": {},
     "output_type": "display_data"
    }
   ],
   "source": [
    "sns.displot(df['age'])"
   ]
  },
  {
   "cell_type": "code",
   "execution_count": 61,
   "id": "05f32023",
   "metadata": {},
   "outputs": [
    {
     "data": {
      "text/plain": [
       "np.int64(177)"
      ]
     },
     "execution_count": 61,
     "metadata": {},
     "output_type": "execute_result"
    }
   ],
   "source": [
    "df.age.isnull().sum()"
   ]
  },
  {
   "cell_type": "code",
   "execution_count": 62,
   "id": "7956216c",
   "metadata": {},
   "outputs": [],
   "source": [
    "df['Age_mean'] = df['age'].fillna(df['age'].mean())"
   ]
  },
  {
   "cell_type": "code",
   "execution_count": 63,
   "id": "4350287b",
   "metadata": {},
   "outputs": [
    {
     "data": {
      "application/vnd.microsoft.datawrangler.viewer.v0+json": {
       "columns": [
        {
         "name": "index",
         "rawType": "int64",
         "type": "integer"
        },
        {
         "name": "Age_mean",
         "rawType": "float64",
         "type": "float"
        },
        {
         "name": "age",
         "rawType": "float64",
         "type": "float"
        }
       ],
       "ref": "b5d808c1-239f-40b7-ba87-78fb206f6420",
       "rows": [
        [
         "0",
         "22.0",
         "22.0"
        ],
        [
         "1",
         "38.0",
         "38.0"
        ],
        [
         "2",
         "26.0",
         "26.0"
        ],
        [
         "3",
         "35.0",
         "35.0"
        ],
        [
         "4",
         "35.0",
         "35.0"
        ],
        [
         "5",
         "29.69911764705882",
         null
        ],
        [
         "6",
         "54.0",
         "54.0"
        ],
        [
         "7",
         "2.0",
         "2.0"
        ],
        [
         "8",
         "27.0",
         "27.0"
        ],
        [
         "9",
         "14.0",
         "14.0"
        ],
        [
         "10",
         "4.0",
         "4.0"
        ],
        [
         "11",
         "58.0",
         "58.0"
        ],
        [
         "12",
         "20.0",
         "20.0"
        ],
        [
         "13",
         "39.0",
         "39.0"
        ],
        [
         "14",
         "14.0",
         "14.0"
        ],
        [
         "15",
         "55.0",
         "55.0"
        ],
        [
         "16",
         "2.0",
         "2.0"
        ],
        [
         "17",
         "29.69911764705882",
         null
        ],
        [
         "18",
         "31.0",
         "31.0"
        ],
        [
         "19",
         "29.69911764705882",
         null
        ],
        [
         "20",
         "35.0",
         "35.0"
        ],
        [
         "21",
         "34.0",
         "34.0"
        ],
        [
         "22",
         "15.0",
         "15.0"
        ],
        [
         "23",
         "28.0",
         "28.0"
        ],
        [
         "24",
         "8.0",
         "8.0"
        ],
        [
         "25",
         "38.0",
         "38.0"
        ],
        [
         "26",
         "29.69911764705882",
         null
        ],
        [
         "27",
         "19.0",
         "19.0"
        ],
        [
         "28",
         "29.69911764705882",
         null
        ],
        [
         "29",
         "29.69911764705882",
         null
        ],
        [
         "30",
         "40.0",
         "40.0"
        ],
        [
         "31",
         "29.69911764705882",
         null
        ],
        [
         "32",
         "29.69911764705882",
         null
        ],
        [
         "33",
         "66.0",
         "66.0"
        ],
        [
         "34",
         "28.0",
         "28.0"
        ],
        [
         "35",
         "42.0",
         "42.0"
        ],
        [
         "36",
         "29.69911764705882",
         null
        ],
        [
         "37",
         "21.0",
         "21.0"
        ],
        [
         "38",
         "18.0",
         "18.0"
        ],
        [
         "39",
         "14.0",
         "14.0"
        ],
        [
         "40",
         "40.0",
         "40.0"
        ],
        [
         "41",
         "27.0",
         "27.0"
        ],
        [
         "42",
         "29.69911764705882",
         null
        ],
        [
         "43",
         "3.0",
         "3.0"
        ],
        [
         "44",
         "19.0",
         "19.0"
        ],
        [
         "45",
         "29.69911764705882",
         null
        ],
        [
         "46",
         "29.69911764705882",
         null
        ],
        [
         "47",
         "29.69911764705882",
         null
        ],
        [
         "48",
         "29.69911764705882",
         null
        ],
        [
         "49",
         "18.0",
         "18.0"
        ]
       ],
       "shape": {
        "columns": 2,
        "rows": 891
       }
      },
      "text/html": [
       "<div>\n",
       "<style scoped>\n",
       "    .dataframe tbody tr th:only-of-type {\n",
       "        vertical-align: middle;\n",
       "    }\n",
       "\n",
       "    .dataframe tbody tr th {\n",
       "        vertical-align: top;\n",
       "    }\n",
       "\n",
       "    .dataframe thead th {\n",
       "        text-align: right;\n",
       "    }\n",
       "</style>\n",
       "<table border=\"1\" class=\"dataframe\">\n",
       "  <thead>\n",
       "    <tr style=\"text-align: right;\">\n",
       "      <th></th>\n",
       "      <th>Age_mean</th>\n",
       "      <th>age</th>\n",
       "    </tr>\n",
       "  </thead>\n",
       "  <tbody>\n",
       "    <tr>\n",
       "      <th>0</th>\n",
       "      <td>22.000000</td>\n",
       "      <td>22.0</td>\n",
       "    </tr>\n",
       "    <tr>\n",
       "      <th>1</th>\n",
       "      <td>38.000000</td>\n",
       "      <td>38.0</td>\n",
       "    </tr>\n",
       "    <tr>\n",
       "      <th>2</th>\n",
       "      <td>26.000000</td>\n",
       "      <td>26.0</td>\n",
       "    </tr>\n",
       "    <tr>\n",
       "      <th>3</th>\n",
       "      <td>35.000000</td>\n",
       "      <td>35.0</td>\n",
       "    </tr>\n",
       "    <tr>\n",
       "      <th>4</th>\n",
       "      <td>35.000000</td>\n",
       "      <td>35.0</td>\n",
       "    </tr>\n",
       "    <tr>\n",
       "      <th>...</th>\n",
       "      <td>...</td>\n",
       "      <td>...</td>\n",
       "    </tr>\n",
       "    <tr>\n",
       "      <th>886</th>\n",
       "      <td>27.000000</td>\n",
       "      <td>27.0</td>\n",
       "    </tr>\n",
       "    <tr>\n",
       "      <th>887</th>\n",
       "      <td>19.000000</td>\n",
       "      <td>19.0</td>\n",
       "    </tr>\n",
       "    <tr>\n",
       "      <th>888</th>\n",
       "      <td>29.699118</td>\n",
       "      <td>NaN</td>\n",
       "    </tr>\n",
       "    <tr>\n",
       "      <th>889</th>\n",
       "      <td>26.000000</td>\n",
       "      <td>26.0</td>\n",
       "    </tr>\n",
       "    <tr>\n",
       "      <th>890</th>\n",
       "      <td>32.000000</td>\n",
       "      <td>32.0</td>\n",
       "    </tr>\n",
       "  </tbody>\n",
       "</table>\n",
       "<p>891 rows × 2 columns</p>\n",
       "</div>"
      ],
      "text/plain": [
       "      Age_mean   age\n",
       "0    22.000000  22.0\n",
       "1    38.000000  38.0\n",
       "2    26.000000  26.0\n",
       "3    35.000000  35.0\n",
       "4    35.000000  35.0\n",
       "..         ...   ...\n",
       "886  27.000000  27.0\n",
       "887  19.000000  19.0\n",
       "888  29.699118   NaN\n",
       "889  26.000000  26.0\n",
       "890  32.000000  32.0\n",
       "\n",
       "[891 rows x 2 columns]"
      ]
     },
     "execution_count": 63,
     "metadata": {},
     "output_type": "execute_result"
    }
   ],
   "source": [
    "df[['Age_mean','age']]\n",
    "\n",
    "#This technique is called as mean imputation,it works well when the data is normally distributed"
   ]
  },
  {
   "cell_type": "code",
   "execution_count": 64,
   "id": "4d5312b3",
   "metadata": {},
   "outputs": [
    {
     "data": {
      "application/vnd.microsoft.datawrangler.viewer.v0+json": {
       "columns": [
        {
         "name": "index",
         "rawType": "int64",
         "type": "integer"
        },
        {
         "name": "Age_median",
         "rawType": "float64",
         "type": "float"
        },
        {
         "name": "age",
         "rawType": "float64",
         "type": "float"
        }
       ],
       "ref": "3e8901b8-04ff-488a-afc0-7490db1879d0",
       "rows": [
        [
         "0",
         "22.0",
         "22.0"
        ],
        [
         "1",
         "38.0",
         "38.0"
        ],
        [
         "2",
         "26.0",
         "26.0"
        ],
        [
         "3",
         "35.0",
         "35.0"
        ],
        [
         "4",
         "35.0",
         "35.0"
        ],
        [
         "5",
         "28.0",
         null
        ],
        [
         "6",
         "54.0",
         "54.0"
        ],
        [
         "7",
         "2.0",
         "2.0"
        ],
        [
         "8",
         "27.0",
         "27.0"
        ],
        [
         "9",
         "14.0",
         "14.0"
        ],
        [
         "10",
         "4.0",
         "4.0"
        ],
        [
         "11",
         "58.0",
         "58.0"
        ],
        [
         "12",
         "20.0",
         "20.0"
        ],
        [
         "13",
         "39.0",
         "39.0"
        ],
        [
         "14",
         "14.0",
         "14.0"
        ],
        [
         "15",
         "55.0",
         "55.0"
        ],
        [
         "16",
         "2.0",
         "2.0"
        ],
        [
         "17",
         "28.0",
         null
        ],
        [
         "18",
         "31.0",
         "31.0"
        ],
        [
         "19",
         "28.0",
         null
        ],
        [
         "20",
         "35.0",
         "35.0"
        ],
        [
         "21",
         "34.0",
         "34.0"
        ],
        [
         "22",
         "15.0",
         "15.0"
        ],
        [
         "23",
         "28.0",
         "28.0"
        ],
        [
         "24",
         "8.0",
         "8.0"
        ],
        [
         "25",
         "38.0",
         "38.0"
        ],
        [
         "26",
         "28.0",
         null
        ],
        [
         "27",
         "19.0",
         "19.0"
        ],
        [
         "28",
         "28.0",
         null
        ],
        [
         "29",
         "28.0",
         null
        ],
        [
         "30",
         "40.0",
         "40.0"
        ],
        [
         "31",
         "28.0",
         null
        ],
        [
         "32",
         "28.0",
         null
        ],
        [
         "33",
         "66.0",
         "66.0"
        ],
        [
         "34",
         "28.0",
         "28.0"
        ],
        [
         "35",
         "42.0",
         "42.0"
        ],
        [
         "36",
         "28.0",
         null
        ],
        [
         "37",
         "21.0",
         "21.0"
        ],
        [
         "38",
         "18.0",
         "18.0"
        ],
        [
         "39",
         "14.0",
         "14.0"
        ],
        [
         "40",
         "40.0",
         "40.0"
        ],
        [
         "41",
         "27.0",
         "27.0"
        ],
        [
         "42",
         "28.0",
         null
        ],
        [
         "43",
         "3.0",
         "3.0"
        ],
        [
         "44",
         "19.0",
         "19.0"
        ],
        [
         "45",
         "28.0",
         null
        ],
        [
         "46",
         "28.0",
         null
        ],
        [
         "47",
         "28.0",
         null
        ],
        [
         "48",
         "28.0",
         null
        ],
        [
         "49",
         "18.0",
         "18.0"
        ]
       ],
       "shape": {
        "columns": 2,
        "rows": 891
       }
      },
      "text/html": [
       "<div>\n",
       "<style scoped>\n",
       "    .dataframe tbody tr th:only-of-type {\n",
       "        vertical-align: middle;\n",
       "    }\n",
       "\n",
       "    .dataframe tbody tr th {\n",
       "        vertical-align: top;\n",
       "    }\n",
       "\n",
       "    .dataframe thead th {\n",
       "        text-align: right;\n",
       "    }\n",
       "</style>\n",
       "<table border=\"1\" class=\"dataframe\">\n",
       "  <thead>\n",
       "    <tr style=\"text-align: right;\">\n",
       "      <th></th>\n",
       "      <th>Age_median</th>\n",
       "      <th>age</th>\n",
       "    </tr>\n",
       "  </thead>\n",
       "  <tbody>\n",
       "    <tr>\n",
       "      <th>0</th>\n",
       "      <td>22.0</td>\n",
       "      <td>22.0</td>\n",
       "    </tr>\n",
       "    <tr>\n",
       "      <th>1</th>\n",
       "      <td>38.0</td>\n",
       "      <td>38.0</td>\n",
       "    </tr>\n",
       "    <tr>\n",
       "      <th>2</th>\n",
       "      <td>26.0</td>\n",
       "      <td>26.0</td>\n",
       "    </tr>\n",
       "    <tr>\n",
       "      <th>3</th>\n",
       "      <td>35.0</td>\n",
       "      <td>35.0</td>\n",
       "    </tr>\n",
       "    <tr>\n",
       "      <th>4</th>\n",
       "      <td>35.0</td>\n",
       "      <td>35.0</td>\n",
       "    </tr>\n",
       "    <tr>\n",
       "      <th>...</th>\n",
       "      <td>...</td>\n",
       "      <td>...</td>\n",
       "    </tr>\n",
       "    <tr>\n",
       "      <th>886</th>\n",
       "      <td>27.0</td>\n",
       "      <td>27.0</td>\n",
       "    </tr>\n",
       "    <tr>\n",
       "      <th>887</th>\n",
       "      <td>19.0</td>\n",
       "      <td>19.0</td>\n",
       "    </tr>\n",
       "    <tr>\n",
       "      <th>888</th>\n",
       "      <td>28.0</td>\n",
       "      <td>NaN</td>\n",
       "    </tr>\n",
       "    <tr>\n",
       "      <th>889</th>\n",
       "      <td>26.0</td>\n",
       "      <td>26.0</td>\n",
       "    </tr>\n",
       "    <tr>\n",
       "      <th>890</th>\n",
       "      <td>32.0</td>\n",
       "      <td>32.0</td>\n",
       "    </tr>\n",
       "  </tbody>\n",
       "</table>\n",
       "<p>891 rows × 2 columns</p>\n",
       "</div>"
      ],
      "text/plain": [
       "     Age_median   age\n",
       "0          22.0  22.0\n",
       "1          38.0  38.0\n",
       "2          26.0  26.0\n",
       "3          35.0  35.0\n",
       "4          35.0  35.0\n",
       "..          ...   ...\n",
       "886        27.0  27.0\n",
       "887        19.0  19.0\n",
       "888        28.0   NaN\n",
       "889        26.0  26.0\n",
       "890        32.0  32.0\n",
       "\n",
       "[891 rows x 2 columns]"
      ]
     },
     "execution_count": 64,
     "metadata": {},
     "output_type": "execute_result"
    }
   ],
   "source": [
    "#Meadian Imputation\n",
    "\n",
    "#Generally in case of outliers,median imputation is used\n",
    "\n",
    "df['Age_median'] = df['age'].fillna(df['age'].median())\n",
    "df[['Age_median','age']]"
   ]
  },
  {
   "cell_type": "code",
   "execution_count": 65,
   "id": "32f4966f",
   "metadata": {},
   "outputs": [
    {
     "data": {
      "application/vnd.microsoft.datawrangler.viewer.v0+json": {
       "columns": [
        {
         "name": "index",
         "rawType": "int64",
         "type": "integer"
        },
        {
         "name": "survived",
         "rawType": "int64",
         "type": "integer"
        },
        {
         "name": "pclass",
         "rawType": "int64",
         "type": "integer"
        },
        {
         "name": "sex",
         "rawType": "object",
         "type": "string"
        },
        {
         "name": "age",
         "rawType": "float64",
         "type": "float"
        },
        {
         "name": "sibsp",
         "rawType": "int64",
         "type": "integer"
        },
        {
         "name": "parch",
         "rawType": "int64",
         "type": "integer"
        },
        {
         "name": "fare",
         "rawType": "float64",
         "type": "float"
        },
        {
         "name": "embarked",
         "rawType": "object",
         "type": "unknown"
        },
        {
         "name": "class",
         "rawType": "category",
         "type": "unknown"
        },
        {
         "name": "who",
         "rawType": "object",
         "type": "string"
        },
        {
         "name": "adult_male",
         "rawType": "bool",
         "type": "boolean"
        },
        {
         "name": "deck",
         "rawType": "category",
         "type": "unknown"
        },
        {
         "name": "embark_town",
         "rawType": "object",
         "type": "unknown"
        },
        {
         "name": "alive",
         "rawType": "object",
         "type": "string"
        },
        {
         "name": "alone",
         "rawType": "bool",
         "type": "boolean"
        },
        {
         "name": "Age_mean",
         "rawType": "float64",
         "type": "float"
        },
        {
         "name": "Age_median",
         "rawType": "float64",
         "type": "float"
        }
       ],
       "ref": "008fb2de-341e-4e29-97ac-b8f249d1da47",
       "rows": [
        [
         "61",
         "1",
         "1",
         "female",
         "38.0",
         "0",
         "0",
         "80.0",
         null,
         "First",
         "woman",
         "False",
         "B",
         null,
         "yes",
         "True",
         "38.0",
         "38.0"
        ],
        [
         "829",
         "1",
         "1",
         "female",
         "62.0",
         "0",
         "0",
         "80.0",
         null,
         "First",
         "woman",
         "False",
         "B",
         null,
         "yes",
         "True",
         "62.0",
         "62.0"
        ]
       ],
       "shape": {
        "columns": 17,
        "rows": 2
       }
      },
      "text/html": [
       "<div>\n",
       "<style scoped>\n",
       "    .dataframe tbody tr th:only-of-type {\n",
       "        vertical-align: middle;\n",
       "    }\n",
       "\n",
       "    .dataframe tbody tr th {\n",
       "        vertical-align: top;\n",
       "    }\n",
       "\n",
       "    .dataframe thead th {\n",
       "        text-align: right;\n",
       "    }\n",
       "</style>\n",
       "<table border=\"1\" class=\"dataframe\">\n",
       "  <thead>\n",
       "    <tr style=\"text-align: right;\">\n",
       "      <th></th>\n",
       "      <th>survived</th>\n",
       "      <th>pclass</th>\n",
       "      <th>sex</th>\n",
       "      <th>age</th>\n",
       "      <th>sibsp</th>\n",
       "      <th>parch</th>\n",
       "      <th>fare</th>\n",
       "      <th>embarked</th>\n",
       "      <th>class</th>\n",
       "      <th>who</th>\n",
       "      <th>adult_male</th>\n",
       "      <th>deck</th>\n",
       "      <th>embark_town</th>\n",
       "      <th>alive</th>\n",
       "      <th>alone</th>\n",
       "      <th>Age_mean</th>\n",
       "      <th>Age_median</th>\n",
       "    </tr>\n",
       "  </thead>\n",
       "  <tbody>\n",
       "    <tr>\n",
       "      <th>61</th>\n",
       "      <td>1</td>\n",
       "      <td>1</td>\n",
       "      <td>female</td>\n",
       "      <td>38.0</td>\n",
       "      <td>0</td>\n",
       "      <td>0</td>\n",
       "      <td>80.0</td>\n",
       "      <td>NaN</td>\n",
       "      <td>First</td>\n",
       "      <td>woman</td>\n",
       "      <td>False</td>\n",
       "      <td>B</td>\n",
       "      <td>NaN</td>\n",
       "      <td>yes</td>\n",
       "      <td>True</td>\n",
       "      <td>38.0</td>\n",
       "      <td>38.0</td>\n",
       "    </tr>\n",
       "    <tr>\n",
       "      <th>829</th>\n",
       "      <td>1</td>\n",
       "      <td>1</td>\n",
       "      <td>female</td>\n",
       "      <td>62.0</td>\n",
       "      <td>0</td>\n",
       "      <td>0</td>\n",
       "      <td>80.0</td>\n",
       "      <td>NaN</td>\n",
       "      <td>First</td>\n",
       "      <td>woman</td>\n",
       "      <td>False</td>\n",
       "      <td>B</td>\n",
       "      <td>NaN</td>\n",
       "      <td>yes</td>\n",
       "      <td>True</td>\n",
       "      <td>62.0</td>\n",
       "      <td>62.0</td>\n",
       "    </tr>\n",
       "  </tbody>\n",
       "</table>\n",
       "</div>"
      ],
      "text/plain": [
       "     survived  pclass     sex   age  sibsp  parch  fare embarked  class  \\\n",
       "61          1       1  female  38.0      0      0  80.0      NaN  First   \n",
       "829         1       1  female  62.0      0      0  80.0      NaN  First   \n",
       "\n",
       "       who  adult_male deck embark_town alive  alone  Age_mean  Age_median  \n",
       "61   woman       False    B         NaN   yes   True      38.0        38.0  \n",
       "829  woman       False    B         NaN   yes   True      62.0        62.0  "
      ]
     },
     "execution_count": 65,
     "metadata": {},
     "output_type": "execute_result"
    }
   ],
   "source": [
    "#Mode Imputation: For categorical data\n",
    "\n",
    "df[df['embarked'].isnull()]\n"
   ]
  },
  {
   "cell_type": "code",
   "execution_count": 66,
   "id": "a95cef31",
   "metadata": {},
   "outputs": [
    {
     "data": {
      "text/plain": [
       "array(['S', 'C', 'Q', nan], dtype=object)"
      ]
     },
     "execution_count": 66,
     "metadata": {},
     "output_type": "execute_result"
    }
   ],
   "source": [
    "df['embarked'].unique()"
   ]
  },
  {
   "cell_type": "code",
   "execution_count": 67,
   "id": "bd1f45ba",
   "metadata": {},
   "outputs": [
    {
     "data": {
      "application/vnd.microsoft.datawrangler.viewer.v0+json": {
       "columns": [
        {
         "name": "index",
         "rawType": "int64",
         "type": "integer"
        },
        {
         "name": "Age_mode",
         "rawType": "float64",
         "type": "float"
        },
        {
         "name": "age",
         "rawType": "float64",
         "type": "float"
        }
       ],
       "ref": "a96e8ea5-f72c-4426-af6e-ff423b4a17dc",
       "rows": [
        [
         "0",
         "22.0",
         "22.0"
        ],
        [
         "1",
         "38.0",
         "38.0"
        ],
        [
         "2",
         "26.0",
         "26.0"
        ],
        [
         "3",
         "35.0",
         "35.0"
        ],
        [
         "4",
         "35.0",
         "35.0"
        ],
        [
         "5",
         "24.0",
         null
        ],
        [
         "6",
         "54.0",
         "54.0"
        ],
        [
         "7",
         "2.0",
         "2.0"
        ],
        [
         "8",
         "27.0",
         "27.0"
        ],
        [
         "9",
         "14.0",
         "14.0"
        ],
        [
         "10",
         "4.0",
         "4.0"
        ],
        [
         "11",
         "58.0",
         "58.0"
        ],
        [
         "12",
         "20.0",
         "20.0"
        ],
        [
         "13",
         "39.0",
         "39.0"
        ],
        [
         "14",
         "14.0",
         "14.0"
        ],
        [
         "15",
         "55.0",
         "55.0"
        ],
        [
         "16",
         "2.0",
         "2.0"
        ],
        [
         "17",
         "24.0",
         null
        ],
        [
         "18",
         "31.0",
         "31.0"
        ],
        [
         "19",
         "24.0",
         null
        ],
        [
         "20",
         "35.0",
         "35.0"
        ],
        [
         "21",
         "34.0",
         "34.0"
        ],
        [
         "22",
         "15.0",
         "15.0"
        ],
        [
         "23",
         "28.0",
         "28.0"
        ],
        [
         "24",
         "8.0",
         "8.0"
        ],
        [
         "25",
         "38.0",
         "38.0"
        ],
        [
         "26",
         "24.0",
         null
        ],
        [
         "27",
         "19.0",
         "19.0"
        ],
        [
         "28",
         "24.0",
         null
        ],
        [
         "29",
         "24.0",
         null
        ],
        [
         "30",
         "40.0",
         "40.0"
        ],
        [
         "31",
         "24.0",
         null
        ],
        [
         "32",
         "24.0",
         null
        ],
        [
         "33",
         "66.0",
         "66.0"
        ],
        [
         "34",
         "28.0",
         "28.0"
        ],
        [
         "35",
         "42.0",
         "42.0"
        ],
        [
         "36",
         "24.0",
         null
        ],
        [
         "37",
         "21.0",
         "21.0"
        ],
        [
         "38",
         "18.0",
         "18.0"
        ],
        [
         "39",
         "14.0",
         "14.0"
        ],
        [
         "40",
         "40.0",
         "40.0"
        ],
        [
         "41",
         "27.0",
         "27.0"
        ],
        [
         "42",
         "24.0",
         null
        ],
        [
         "43",
         "3.0",
         "3.0"
        ],
        [
         "44",
         "19.0",
         "19.0"
        ],
        [
         "45",
         "24.0",
         null
        ],
        [
         "46",
         "24.0",
         null
        ],
        [
         "47",
         "24.0",
         null
        ],
        [
         "48",
         "24.0",
         null
        ],
        [
         "49",
         "18.0",
         "18.0"
        ]
       ],
       "shape": {
        "columns": 2,
        "rows": 891
       }
      },
      "text/html": [
       "<div>\n",
       "<style scoped>\n",
       "    .dataframe tbody tr th:only-of-type {\n",
       "        vertical-align: middle;\n",
       "    }\n",
       "\n",
       "    .dataframe tbody tr th {\n",
       "        vertical-align: top;\n",
       "    }\n",
       "\n",
       "    .dataframe thead th {\n",
       "        text-align: right;\n",
       "    }\n",
       "</style>\n",
       "<table border=\"1\" class=\"dataframe\">\n",
       "  <thead>\n",
       "    <tr style=\"text-align: right;\">\n",
       "      <th></th>\n",
       "      <th>Age_mode</th>\n",
       "      <th>age</th>\n",
       "    </tr>\n",
       "  </thead>\n",
       "  <tbody>\n",
       "    <tr>\n",
       "      <th>0</th>\n",
       "      <td>22.0</td>\n",
       "      <td>22.0</td>\n",
       "    </tr>\n",
       "    <tr>\n",
       "      <th>1</th>\n",
       "      <td>38.0</td>\n",
       "      <td>38.0</td>\n",
       "    </tr>\n",
       "    <tr>\n",
       "      <th>2</th>\n",
       "      <td>26.0</td>\n",
       "      <td>26.0</td>\n",
       "    </tr>\n",
       "    <tr>\n",
       "      <th>3</th>\n",
       "      <td>35.0</td>\n",
       "      <td>35.0</td>\n",
       "    </tr>\n",
       "    <tr>\n",
       "      <th>4</th>\n",
       "      <td>35.0</td>\n",
       "      <td>35.0</td>\n",
       "    </tr>\n",
       "    <tr>\n",
       "      <th>...</th>\n",
       "      <td>...</td>\n",
       "      <td>...</td>\n",
       "    </tr>\n",
       "    <tr>\n",
       "      <th>886</th>\n",
       "      <td>27.0</td>\n",
       "      <td>27.0</td>\n",
       "    </tr>\n",
       "    <tr>\n",
       "      <th>887</th>\n",
       "      <td>19.0</td>\n",
       "      <td>19.0</td>\n",
       "    </tr>\n",
       "    <tr>\n",
       "      <th>888</th>\n",
       "      <td>24.0</td>\n",
       "      <td>NaN</td>\n",
       "    </tr>\n",
       "    <tr>\n",
       "      <th>889</th>\n",
       "      <td>26.0</td>\n",
       "      <td>26.0</td>\n",
       "    </tr>\n",
       "    <tr>\n",
       "      <th>890</th>\n",
       "      <td>32.0</td>\n",
       "      <td>32.0</td>\n",
       "    </tr>\n",
       "  </tbody>\n",
       "</table>\n",
       "<p>891 rows × 2 columns</p>\n",
       "</div>"
      ],
      "text/plain": [
       "     Age_mode   age\n",
       "0        22.0  22.0\n",
       "1        38.0  38.0\n",
       "2        26.0  26.0\n",
       "3        35.0  35.0\n",
       "4        35.0  35.0\n",
       "..        ...   ...\n",
       "886      27.0  27.0\n",
       "887      19.0  19.0\n",
       "888      24.0   NaN\n",
       "889      26.0  26.0\n",
       "890      32.0  32.0\n",
       "\n",
       "[891 rows x 2 columns]"
      ]
     },
     "execution_count": 67,
     "metadata": {},
     "output_type": "execute_result"
    }
   ],
   "source": [
    "df['Age_mode'] = df['age'].fillna(df['age'].mode()[0])\n",
    "df[['Age_mode','age']]"
   ]
  },
  {
   "cell_type": "code",
   "execution_count": 68,
   "id": "1562a9cd",
   "metadata": {},
   "outputs": [],
   "source": [
    "#means no na values is included\n",
    "mode = df[df['age'].notna()]['embarked'].mode()[0]"
   ]
  },
  {
   "cell_type": "code",
   "execution_count": 69,
   "id": "3dbc1223",
   "metadata": {},
   "outputs": [
    {
     "data": {
      "text/plain": [
       "'S'"
      ]
     },
     "execution_count": 69,
     "metadata": {},
     "output_type": "execute_result"
    }
   ],
   "source": [
    "mode"
   ]
  },
  {
   "cell_type": "code",
   "execution_count": 70,
   "id": "9c5aa364",
   "metadata": {},
   "outputs": [],
   "source": [
    "df['embarked'] = df['embarked'].fillna(mode)"
   ]
  },
  {
   "cell_type": "code",
   "execution_count": null,
   "id": "55c6747a",
   "metadata": {},
   "outputs": [
    {
     "data": {
      "text/plain": [
       "np.int64(0)"
      ]
     },
     "execution_count": 51,
     "metadata": {},
     "output_type": "execute_result"
    }
   ],
   "source": [
    "df['embarked'].isnull().sum()"
   ]
  }
 ],
 "metadata": {
  "kernelspec": {
   "display_name": "Python 3",
   "language": "python",
   "name": "python3"
  },
  "language_info": {
   "codemirror_mode": {
    "name": "ipython",
    "version": 3
   },
   "file_extension": ".py",
   "mimetype": "text/x-python",
   "name": "python",
   "nbconvert_exporter": "python",
   "pygments_lexer": "ipython3",
   "version": "3.11.9"
  }
 },
 "nbformat": 4,
 "nbformat_minor": 5
}
