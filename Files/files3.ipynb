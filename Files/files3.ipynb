{
 "cells": [
  {
   "cell_type": "code",
   "execution_count": 96,
   "metadata": {},
   "outputs": [],
   "source": [
    "# Logging : It store value pemanently that we can access it after a longtime\n",
    "# We use logging instead of print because in print statement the value store temporarly "
   ]
  },
  {
   "cell_type": "code",
   "execution_count": 97,
   "metadata": {},
   "outputs": [],
   "source": [
    "f= open(\"text5.log\",\"w\")"
   ]
  },
  {
   "cell_type": "code",
   "execution_count": 98,
   "metadata": {},
   "outputs": [],
   "source": [
    "import logging"
   ]
  },
  {
   "cell_type": "code",
   "execution_count": 99,
   "metadata": {},
   "outputs": [],
   "source": [
    "logging.basicConfig(fileName = \"text5.log\",level = logging.INFO)"
   ]
  },
  {
   "cell_type": "code",
   "execution_count": 101,
   "metadata": {},
   "outputs": [
    {
     "name": "stderr",
     "output_type": "stream",
     "text": [
      "INFO:root:This is my project\n"
     ]
    }
   ],
   "source": [
    "logging.info('This is my project')"
   ]
  },
  {
   "cell_type": "code",
   "execution_count": 102,
   "metadata": {},
   "outputs": [],
   "source": [
    "logging.debug(\"This s my debug\")"
   ]
  },
  {
   "cell_type": "code",
   "execution_count": 103,
   "metadata": {},
   "outputs": [],
   "source": [
    "logging.basicConfig(filename='text5.log',level = logging.debug,format='%(acstime)s %(message)c')"
   ]
  },
  {
   "cell_type": "code",
   "execution_count": 104,
   "metadata": {},
   "outputs": [
    {
     "name": "stderr",
     "output_type": "stream",
     "text": [
      "INFO:root:This is info\n",
      "WARNING:root:This last warning\n",
      "ERROR:root:Error\n"
     ]
    }
   ],
   "source": [
    "logging.info('This is info')\n",
    "logging.warning('This last warning')\n",
    "logging.error(\"Error\")\n"
   ]
  },
  {
   "cell_type": "code",
   "execution_count": 105,
   "metadata": {},
   "outputs": [],
   "source": [
    "logging.shutdown()"
   ]
  },
  {
   "cell_type": "code",
   "execution_count": 130,
   "metadata": {},
   "outputs": [],
   "source": [
    "with open(\"text6.log\", \"w\") as f:\n",
    "    f.write(\"This is my first file\\n\")    "
   ]
  },
  {
   "cell_type": "code",
   "execution_count": 131,
   "metadata": {},
   "outputs": [
    {
     "name": "stderr",
     "output_type": "stream",
     "text": [
      "INFO:root:This is info\n"
     ]
    }
   ],
   "source": [
    "logging.basicConfig(filename = 'text6.log', level = logging.debug, format = '%(asctime)s %(message)s')\n",
    "logging.info('This is info')"
   ]
  },
  {
   "cell_type": "code",
   "execution_count": 132,
   "metadata": {},
   "outputs": [],
   "source": [
    "l = [1,2,3,4,5,[78,34,90],'Shaswat','Divyansh']"
   ]
  },
  {
   "cell_type": "code",
   "execution_count": 133,
   "metadata": {},
   "outputs": [
    {
     "name": "stderr",
     "output_type": "stream",
     "text": [
      "INFO:root:This is info [1, 2, 3, 4, 5, [78, 34, 90], 'Shaswat', 'Divyansh']\n",
      "INFO:root:This is []final info [1]\n",
      "INFO:root:This is info [1, 2, 3, 4, 5, [78, 34, 90], 'Shaswat', 'Divyansh']\n",
      "INFO:root:This is []final info [1, 2]\n",
      "INFO:root:This is info [1, 2, 3, 4, 5, [78, 34, 90], 'Shaswat', 'Divyansh']\n",
      "INFO:root:This is []final info [1, 2, 3]\n",
      "INFO:root:This is info [1, 2, 3, 4, 5, [78, 34, 90], 'Shaswat', 'Divyansh']\n",
      "INFO:root:This is []final info [1, 2, 3, 4]\n",
      "INFO:root:This is info [1, 2, 3, 4, 5, [78, 34, 90], 'Shaswat', 'Divyansh']\n",
      "INFO:root:This is []final info [1, 2, 3, 4, 5]\n",
      "INFO:root:This is info [1, 2, 3, 4, 5, [78, 34, 90], 'Shaswat', 'Divyansh']\n",
      "INFO:root:This is new info[78, 34, 90]\n",
      "INFO:root:This is latest info78\n",
      "INFO:root:This is current info\n",
      "INFO:root:This is latest info34\n",
      "INFO:root:This is current info\n",
      "INFO:root:This is latest info90\n",
      "INFO:root:This is current info\n",
      "INFO:root:This is info [1, 2, 3, 4, 5, [78, 34, 90], 'Shaswat', 'Divyansh']\n",
      "INFO:root:This is [78, 34, 90]final info [1, 2, 3, 4, 5, 'Shaswat']\n",
      "INFO:root:This is info [1, 2, 3, 4, 5, [78, 34, 90], 'Shaswat', 'Divyansh']\n",
      "INFO:root:This is [78, 34, 90]final info [1, 2, 3, 4, 5, 'Shaswat', 'Divyansh']\n"
     ]
    }
   ],
   "source": [
    "l1_int = []\n",
    "l2_str = []\n",
    "for i in l:\n",
    "    logging.info('This is info {}'.format(l))\n",
    "    if type(i) == list:\n",
    "        logging.info('This is new info'+str(i))\n",
    "        for j in i:\n",
    "            logging.info('This is latest info'+str(j))\n",
    "            if type(j) == int:\n",
    "                logging.info('This is current info')\n",
    "                l1_int.append(j)\n",
    "    elif type(i) == list:\n",
    "        l1_int.append(i)\n",
    "    else:\n",
    "        l2_str.append(i)\n",
    "        \n",
    "        logging.info('This is {l1}final info {l2}'.format(l1 = l1_int, l2 = l2_str))\n",
    "\n",
    "        \n",
    "        "
   ]
  },
  {
   "cell_type": "code",
   "execution_count": 134,
   "metadata": {},
   "outputs": [],
   "source": [
    "f.close()"
   ]
  }
 ],
 "metadata": {
  "kernelspec": {
   "display_name": "Python 3",
   "language": "python",
   "name": "python3"
  },
  "language_info": {
   "codemirror_mode": {
    "name": "ipython",
    "version": 3
   },
   "file_extension": ".py",
   "mimetype": "text/x-python",
   "name": "python",
   "nbconvert_exporter": "python",
   "pygments_lexer": "ipython3",
   "version": "3.13.1"
  }
 },
 "nbformat": 4,
 "nbformat_minor": 2
}
